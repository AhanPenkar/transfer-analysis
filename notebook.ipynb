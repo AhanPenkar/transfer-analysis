{
 "cells": [
  {
   "attachments": {},
   "cell_type": "markdown",
   "metadata": {},
   "source": [
    "### Standard Python + R setup and imports\n",
    "\n",
    "Work in this notebook so I can test viz in R as well"
   ]
  },
  {
   "cell_type": "code",
   "execution_count": 22,
   "metadata": {},
   "outputs": [
    {
     "name": "stdout",
     "output_type": "stream",
     "text": [
      "The rpy2.ipython extension is already loaded. To reload it, use:\n",
      "  %reload_ext rpy2.ipython\n",
      "The autoreload extension is already loaded. To reload it, use:\n",
      "  %reload_ext autoreload\n"
     ]
    }
   ],
   "source": [
    "%load_ext rpy2.ipython\n",
    "%load_ext autoreload\n",
    "%autoreload 2\n",
    "\n",
    "%matplotlib inline  \n",
    "from matplotlib import rcParams\n",
    "rcParams['figure.figsize'] = (16, 100)\n",
    "\n",
    "import warnings\n",
    "from rpy2.rinterface import RRuntimeWarning\n",
    "warnings.filterwarnings(\"ignore\") # Ignore all warnings\n",
    "# warnings.filterwarnings(\"ignore\", category=RRuntimeWarning) # Show some warnings\n",
    "\n",
    "import pandas as pd\n",
    "import numpy as np\n",
    "import matplotlib.pyplot as plt\n",
    "from IPython.display import display, HTML"
   ]
  },
  {
   "cell_type": "code",
   "execution_count": 23,
   "metadata": {},
   "outputs": [
    {
     "data": {
      "application/javascript": "// Disable auto-scrolling\nIPython.OutputArea.prototype._should_scroll = function(lines) {\n    return false;\n}\n",
      "text/plain": [
       "<IPython.core.display.Javascript object>"
      ]
     },
     "metadata": {},
     "output_type": "display_data"
    }
   ],
   "source": [
    "%%javascript\n",
    "// Disable auto-scrolling\n",
    "IPython.OutputArea.prototype._should_scroll = function(lines) {\n",
    "    return false;\n",
    "}"
   ]
  },
  {
   "cell_type": "code",
   "execution_count": 24,
   "metadata": {},
   "outputs": [],
   "source": [
    "%%R\n",
    "\n",
    "# My commonly used R imports\n",
    "require('tidyverse')"
   ]
  },
  {
   "attachments": {},
   "cell_type": "markdown",
   "metadata": {},
   "source": [
    "## Clean up\n",
    "\n",
    "add the country of the Club involved. How do we add the club involved for over 30 countries?"
   ]
  },
  {
   "cell_type": "code",
   "execution_count": 25,
   "metadata": {
    "notebookRunGroups": {
     "groupValue": ""
    }
   },
   "outputs": [
    {
     "data": {
      "text/html": [
       "<div>\n",
       "<style scoped>\n",
       "    .dataframe tbody tr th:only-of-type {\n",
       "        vertical-align: middle;\n",
       "    }\n",
       "\n",
       "    .dataframe tbody tr th {\n",
       "        vertical-align: top;\n",
       "    }\n",
       "\n",
       "    .dataframe thead th {\n",
       "        text-align: right;\n",
       "    }\n",
       "</style>\n",
       "<table border=\"1\" class=\"dataframe\">\n",
       "  <thead>\n",
       "    <tr style=\"text-align: right;\">\n",
       "      <th></th>\n",
       "      <th>club_name</th>\n",
       "      <th>player_name</th>\n",
       "      <th>age</th>\n",
       "      <th>position</th>\n",
       "      <th>club_involved_name</th>\n",
       "      <th>fee</th>\n",
       "      <th>transfer_movement</th>\n",
       "      <th>transfer_period</th>\n",
       "      <th>fee_cleaned</th>\n",
       "      <th>league_name</th>\n",
       "      <th>year</th>\n",
       "      <th>season</th>\n",
       "    </tr>\n",
       "  </thead>\n",
       "  <tbody>\n",
       "    <tr>\n",
       "      <th>0</th>\n",
       "      <td>Middlesbrough FC</td>\n",
       "      <td>Tommy Wright</td>\n",
       "      <td>26.0</td>\n",
       "      <td>Left Winger</td>\n",
       "      <td>Leicester</td>\n",
       "      <td>€910Th.</td>\n",
       "      <td>in</td>\n",
       "      <td>Summer</td>\n",
       "      <td>0.91</td>\n",
       "      <td>Premier League</td>\n",
       "      <td>1992</td>\n",
       "      <td>1992/1993</td>\n",
       "    </tr>\n",
       "    <tr>\n",
       "      <th>1</th>\n",
       "      <td>Middlesbrough FC</td>\n",
       "      <td>Jonathan Gittens</td>\n",
       "      <td>28.0</td>\n",
       "      <td>defence</td>\n",
       "      <td>Southampton</td>\n",
       "      <td>€250Th.</td>\n",
       "      <td>in</td>\n",
       "      <td>Summer</td>\n",
       "      <td>0.25</td>\n",
       "      <td>Premier League</td>\n",
       "      <td>1992</td>\n",
       "      <td>1992/1993</td>\n",
       "    </tr>\n",
       "    <tr>\n",
       "      <th>2</th>\n",
       "      <td>Middlesbrough FC</td>\n",
       "      <td>Chris Morris</td>\n",
       "      <td>28.0</td>\n",
       "      <td>Right-Back</td>\n",
       "      <td>Celtic</td>\n",
       "      <td>?</td>\n",
       "      <td>in</td>\n",
       "      <td>Summer</td>\n",
       "      <td>NaN</td>\n",
       "      <td>Premier League</td>\n",
       "      <td>1992</td>\n",
       "      <td>1992/1993</td>\n",
       "    </tr>\n",
       "    <tr>\n",
       "      <th>3</th>\n",
       "      <td>Middlesbrough FC</td>\n",
       "      <td>Ben Roberts</td>\n",
       "      <td>17.0</td>\n",
       "      <td>Goalkeeper</td>\n",
       "      <td>Boro U18</td>\n",
       "      <td>-</td>\n",
       "      <td>in</td>\n",
       "      <td>Summer</td>\n",
       "      <td>NaN</td>\n",
       "      <td>Premier League</td>\n",
       "      <td>1992</td>\n",
       "      <td>1992/1993</td>\n",
       "    </tr>\n",
       "    <tr>\n",
       "      <th>4</th>\n",
       "      <td>Middlesbrough FC</td>\n",
       "      <td>Andy Todd</td>\n",
       "      <td>17.0</td>\n",
       "      <td>Centre-Back</td>\n",
       "      <td>Boro U18</td>\n",
       "      <td>-</td>\n",
       "      <td>in</td>\n",
       "      <td>Summer</td>\n",
       "      <td>NaN</td>\n",
       "      <td>Premier League</td>\n",
       "      <td>1992</td>\n",
       "      <td>1992/1993</td>\n",
       "    </tr>\n",
       "    <tr>\n",
       "      <th>...</th>\n",
       "      <td>...</td>\n",
       "      <td>...</td>\n",
       "      <td>...</td>\n",
       "      <td>...</td>\n",
       "      <td>...</td>\n",
       "      <td>...</td>\n",
       "      <td>...</td>\n",
       "      <td>...</td>\n",
       "      <td>...</td>\n",
       "      <td>...</td>\n",
       "      <td>...</td>\n",
       "      <td>...</td>\n",
       "    </tr>\n",
       "    <tr>\n",
       "      <th>23493</th>\n",
       "      <td>Wolverhampton Wanderers</td>\n",
       "      <td>Luke Cundle</td>\n",
       "      <td>20.0</td>\n",
       "      <td>Central Midfield</td>\n",
       "      <td>Swansea</td>\n",
       "      <td>loan transfer</td>\n",
       "      <td>out</td>\n",
       "      <td>summer</td>\n",
       "      <td>NaN</td>\n",
       "      <td>Premier League</td>\n",
       "      <td>2022</td>\n",
       "      <td>2022/2023</td>\n",
       "    </tr>\n",
       "    <tr>\n",
       "      <th>23494</th>\n",
       "      <td>Wolverhampton Wanderers</td>\n",
       "      <td>Fábio Silva</td>\n",
       "      <td>20.0</td>\n",
       "      <td>Centre-Forward</td>\n",
       "      <td>RSC Anderlecht</td>\n",
       "      <td>loan transfer</td>\n",
       "      <td>out</td>\n",
       "      <td>summer</td>\n",
       "      <td>NaN</td>\n",
       "      <td>Premier League</td>\n",
       "      <td>2022</td>\n",
       "      <td>2022/2023</td>\n",
       "    </tr>\n",
       "    <tr>\n",
       "      <th>23495</th>\n",
       "      <td>Wolverhampton Wanderers</td>\n",
       "      <td>Ki-Jana Hoever</td>\n",
       "      <td>20.0</td>\n",
       "      <td>Right-Back</td>\n",
       "      <td>PSV Eindhoven</td>\n",
       "      <td>loan transfer</td>\n",
       "      <td>out</td>\n",
       "      <td>summer</td>\n",
       "      <td>NaN</td>\n",
       "      <td>Premier League</td>\n",
       "      <td>2022</td>\n",
       "      <td>2022/2023</td>\n",
       "    </tr>\n",
       "    <tr>\n",
       "      <th>23496</th>\n",
       "      <td>Wolverhampton Wanderers</td>\n",
       "      <td>Hee-chan Hwang</td>\n",
       "      <td>26.0</td>\n",
       "      <td>Centre-Forward</td>\n",
       "      <td>RB Leipzig</td>\n",
       "      <td>End of loanJun 30, 2022</td>\n",
       "      <td>out</td>\n",
       "      <td>summer</td>\n",
       "      <td>NaN</td>\n",
       "      <td>Premier League</td>\n",
       "      <td>2022</td>\n",
       "      <td>2022/2023</td>\n",
       "    </tr>\n",
       "    <tr>\n",
       "      <th>23497</th>\n",
       "      <td>Wolverhampton Wanderers</td>\n",
       "      <td>Francisco Trincão</td>\n",
       "      <td>22.0</td>\n",
       "      <td>Right Winger</td>\n",
       "      <td>Barcelona</td>\n",
       "      <td>End of loanJun 30, 2022</td>\n",
       "      <td>out</td>\n",
       "      <td>summer</td>\n",
       "      <td>NaN</td>\n",
       "      <td>Premier League</td>\n",
       "      <td>2022</td>\n",
       "      <td>2022/2023</td>\n",
       "    </tr>\n",
       "  </tbody>\n",
       "</table>\n",
       "<p>23498 rows × 12 columns</p>\n",
       "</div>"
      ],
      "text/plain": [
       "                     club_name        player_name   age          position  \\\n",
       "0             Middlesbrough FC       Tommy Wright  26.0       Left Winger   \n",
       "1             Middlesbrough FC   Jonathan Gittens  28.0           defence   \n",
       "2             Middlesbrough FC       Chris Morris  28.0        Right-Back   \n",
       "3             Middlesbrough FC        Ben Roberts  17.0        Goalkeeper   \n",
       "4             Middlesbrough FC          Andy Todd  17.0       Centre-Back   \n",
       "...                        ...                ...   ...               ...   \n",
       "23493  Wolverhampton Wanderers        Luke Cundle  20.0  Central Midfield   \n",
       "23494  Wolverhampton Wanderers        Fábio Silva  20.0    Centre-Forward   \n",
       "23495  Wolverhampton Wanderers     Ki-Jana Hoever  20.0        Right-Back   \n",
       "23496  Wolverhampton Wanderers     Hee-chan Hwang  26.0    Centre-Forward   \n",
       "23497  Wolverhampton Wanderers  Francisco Trincão  22.0      Right Winger   \n",
       "\n",
       "      club_involved_name                      fee transfer_movement  \\\n",
       "0              Leicester                  €910Th.                in   \n",
       "1            Southampton                  €250Th.                in   \n",
       "2                 Celtic                        ?                in   \n",
       "3               Boro U18                        -                in   \n",
       "4               Boro U18                        -                in   \n",
       "...                  ...                      ...               ...   \n",
       "23493            Swansea            loan transfer               out   \n",
       "23494     RSC Anderlecht            loan transfer               out   \n",
       "23495      PSV Eindhoven            loan transfer               out   \n",
       "23496         RB Leipzig  End of loanJun 30, 2022               out   \n",
       "23497          Barcelona  End of loanJun 30, 2022               out   \n",
       "\n",
       "      transfer_period  fee_cleaned     league_name  year     season  \n",
       "0              Summer         0.91  Premier League  1992  1992/1993  \n",
       "1              Summer         0.25  Premier League  1992  1992/1993  \n",
       "2              Summer          NaN  Premier League  1992  1992/1993  \n",
       "3              Summer          NaN  Premier League  1992  1992/1993  \n",
       "4              Summer          NaN  Premier League  1992  1992/1993  \n",
       "...               ...          ...             ...   ...        ...  \n",
       "23493          summer          NaN  Premier League  2022  2022/2023  \n",
       "23494          summer          NaN  Premier League  2022  2022/2023  \n",
       "23495          summer          NaN  Premier League  2022  2022/2023  \n",
       "23496          summer          NaN  Premier League  2022  2022/2023  \n",
       "23497          summer          NaN  Premier League  2022  2022/2023  \n",
       "\n",
       "[23498 rows x 12 columns]"
      ]
     },
     "execution_count": 25,
     "metadata": {},
     "output_type": "execute_result"
    }
   ],
   "source": [
    "# This is the not the original df, I have overwritten it\n",
    "df = pd.read_csv('data/premier-league.csv')\n",
    "df"
   ]
  },
  {
   "attachments": {},
   "cell_type": "markdown",
   "metadata": {},
   "source": [
    "## Doing a join with the country databases\n",
    "We'll have to use fuzzy pandas and asses the damage after we get them in. "
   ]
  },
  {
   "cell_type": "code",
   "execution_count": 29,
   "metadata": {},
   "outputs": [],
   "source": [
    "#Also add the name of the country as a column so that we can read it in later\n",
    "spain_df = pd.read_csv('spain_clubs.csv')\n",
    "spain_df['country'] = 'Spain'\n",
    "germany_df = pd.read_csv('germany_clubs.csv')\n",
    "germany_df['country'] = 'Germany'\n",
    "italy_df = pd.read_csv('italy_clubs.csv')\n",
    "italy_df['country'] = 'Italy'\n",
    "france_df = pd.read_csv('france_clubs.csv')\n",
    "france_df['country'] = 'France'\n",
    "scotland_df = pd.read_csv('scotland_clubs.csv')\n",
    "scotland_df['country'] = 'Scotland'\n",
    "belgium_df = pd.read_csv('belgium_clubs.csv')\n",
    "belgium_df['country'] = 'Belgium'\n",
    "turkey_df = pd.read_csv('turkey_clubs.csv')\n",
    "turkey_df['country'] = 'Turkey'\n",
    "korea_df = pd.read_csv('korea_clubs.csv')\n",
    "korea_df['country'] = 'Korea'\n",
    "japan_df = pd.read_csv('japan_clubs.csv')\n",
    "japan_df['country'] = 'Japan'\n",
    "\n"
   ]
  },
  {
   "attachments": {},
   "cell_type": "markdown",
   "metadata": {},
   "source": [
    "# The Context\n",
    "\n",
    "I found an academic paper that looks at ingredients in "
   ]
  },
  {
   "cell_type": "code",
   "execution_count": 44,
   "metadata": {},
   "outputs": [
    {
     "name": "stderr",
     "output_type": "stream",
     "text": [
      "UsageError: Line magic function `%%R` not found.\n"
     ]
    }
   ],
   "source": [
    "# 👉 sentences for context\n",
    "%%R\n",
    "\n",
    "ggplot(df, aes(x = MIX, fill = group)) + geom_bar()"
   ]
  },
  {
   "attachments": {},
   "cell_type": "markdown",
   "metadata": {},
   "source": [
    "# The Chart\n",
    "\n",
    "Read the dataframe in R and plot using ggplot"
   ]
  },
  {
   "cell_type": "code",
   "execution_count": 20,
   "metadata": {},
   "outputs": [
    {
     "name": "stdout",
     "output_type": "stream",
     "text": [
      "Rows: 23498 Columns: 12\n",
      "── Column specification ────────────────────────────────────────────────────────\n",
      "Delimiter: \",\"\n",
      "chr (9): club_name, player_name, position, club_involved_name, fee, transfer...\n",
      "dbl (3): age, fee_cleaned, year\n",
      "\n",
      "ℹ Use `spec()` to retrieve the full column specification for this data.\n",
      "ℹ Specify the column types or set `show_col_types = FALSE` to quiet this message.\n"
     ]
    }
   ],
   "source": [
    "%%R\n",
    "\n",
    "df <- read_csv('data/premier-league.csv')\n",
    "# 👉 Your ggplot code here"
   ]
  },
  {
   "cell_type": "code",
   "execution_count": 57,
   "metadata": {},
   "outputs": [
    {
     "name": "stdout",
     "output_type": "stream",
     "text": [
      "Error in `geom_bar()`:\n",
      "! Problem while computing aesthetics.\n",
      "ℹ Error occurred in the 1st layer.\n",
      "Caused by error in `FUN()`:\n",
      "! object 'group' not found\n",
      "Run `rlang::last_error()` to see where the error occurred.\n"
     ]
    },
    {
     "data": {
      "image/png": "[encoded data removed]"
     },
     "metadata": {},
     "output_type": "display_data"
    },
    {
     "ename": "RRuntimeError",
     "evalue": "Error in geom_bar() : \nℹ Error occurred in the 1st layer.\nCaused by error in `FUN()`:\n! object 'group' not found\n",
     "output_type": "error",
     "traceback": [
      "\u001b[0;31m---------------------------------------------------------------------------\u001b[0m",
      "\u001b[0;31mRRuntimeError\u001b[0m                             Traceback (most recent call last)",
      "Cell \u001b[0;32mIn [57], line 1\u001b[0m\n\u001b[0;32m----> 1\u001b[0m get_ipython()\u001b[39m.\u001b[39;49mrun_cell_magic(\u001b[39m'\u001b[39;49m\u001b[39mR\u001b[39;49m\u001b[39m'\u001b[39;49m, \u001b[39m'\u001b[39;49m\u001b[39m'\u001b[39;49m, \u001b[39m\"\u001b[39;49m\u001b[39mggplot(df, aes(x = \u001b[39;49m\u001b[39m'\u001b[39;49m\u001b[39mMIX\u001b[39;49m\u001b[39m'\u001b[39;49m\u001b[39m, fill = group)) + \u001b[39;49m\u001b[39m\\n\u001b[39;49;00m\u001b[39m  geom_bar()\u001b[39;49m\u001b[39m\\n\u001b[39;49;00m\u001b[39m\"\u001b[39;49m)\n",
      "File \u001b[0;32m~/.pyenv/versions/3.11.0rc2/lib/python3.11/site-packages/IPython/core/interactiveshell.py:2417\u001b[0m, in \u001b[0;36mInteractiveShell.run_cell_magic\u001b[0;34m(self, magic_name, line, cell)\u001b[0m\n\u001b[1;32m   2415\u001b[0m \u001b[39mwith\u001b[39;00m \u001b[39mself\u001b[39m\u001b[39m.\u001b[39mbuiltin_trap:\n\u001b[1;32m   2416\u001b[0m     args \u001b[39m=\u001b[39m (magic_arg_s, cell)\n\u001b[0;32m-> 2417\u001b[0m     result \u001b[39m=\u001b[39m fn(\u001b[39m*\u001b[39;49margs, \u001b[39m*\u001b[39;49m\u001b[39m*\u001b[39;49mkwargs)\n\u001b[1;32m   2418\u001b[0m \u001b[39mreturn\u001b[39;00m result\n",
      "File \u001b[0;32m~/.pyenv/versions/3.11.0rc2/lib/python3.11/site-packages/rpy2/ipython/rmagic.py:860\u001b[0m, in \u001b[0;36mRMagics.R\u001b[0;34m(self, line, cell, local_ns)\u001b[0m\n\u001b[1;32m    852\u001b[0m                 \u001b[39mif\u001b[39;00m \u001b[39mself\u001b[39m\u001b[39m.\u001b[39mcache_display_data:\n\u001b[1;32m    853\u001b[0m                     stack\u001b[39m.\u001b[39menter_context(\n\u001b[1;32m    854\u001b[0m                         rpy2\u001b[39m.\u001b[39mrinterface_lib\n\u001b[1;32m    855\u001b[0m                         \u001b[39m.\u001b[39mcallbacks\n\u001b[0;32m   (...)\u001b[0m\n\u001b[1;32m    858\u001b[0m                                        \u001b[39m'\u001b[39m\u001b[39mconsolewrite_print\u001b[39m\u001b[39m'\u001b[39m,\n\u001b[1;32m    859\u001b[0m                                        \u001b[39mself\u001b[39m\u001b[39m.\u001b[39mwrite_console_regular))\n\u001b[0;32m--> 860\u001b[0m                 cell_display(result, args)\n\u001b[1;32m    861\u001b[0m                 text_output \u001b[39m+\u001b[39m\u001b[39m=\u001b[39m \u001b[39mself\u001b[39m\u001b[39m.\u001b[39mflush()\n\u001b[1;32m    863\u001b[0m \u001b[39mexcept\u001b[39;00m RInterpreterError \u001b[39mas\u001b[39;00m e:\n\u001b[1;32m    864\u001b[0m     \u001b[39m# TODO: Maybe we should make this red or something?\u001b[39;00m\n",
      "File \u001b[0;32m~/.pyenv/versions/3.11.0rc2/lib/python3.11/site-packages/rpy2/ipython/rmagic.py:129\u001b[0m, in \u001b[0;36mCELL_DISPLAY_DEFAULT\u001b[0;34m(res, args)\u001b[0m\n\u001b[1;32m    128\u001b[0m \u001b[39mdef\u001b[39;00m \u001b[39mCELL_DISPLAY_DEFAULT\u001b[39m(res, args):\n\u001b[0;32m--> 129\u001b[0m     \u001b[39mreturn\u001b[39;00m ro\u001b[39m.\u001b[39;49mr\u001b[39m.\u001b[39;49mshow(res)\n",
      "File \u001b[0;32m~/.pyenv/versions/3.11.0rc2/lib/python3.11/site-packages/rpy2/robjects/functions.py:204\u001b[0m, in \u001b[0;36mSignatureTranslatedFunction.__call__\u001b[0;34m(self, *args, **kwargs)\u001b[0m\n\u001b[1;32m    202\u001b[0m         v \u001b[39m=\u001b[39m kwargs\u001b[39m.\u001b[39mpop(k)\n\u001b[1;32m    203\u001b[0m         kwargs[r_k] \u001b[39m=\u001b[39m v\n\u001b[0;32m--> 204\u001b[0m \u001b[39mreturn\u001b[39;00m (\u001b[39msuper\u001b[39;49m(SignatureTranslatedFunction, \u001b[39mself\u001b[39;49m)\n\u001b[1;32m    205\u001b[0m         \u001b[39m.\u001b[39;49m\u001b[39m__call__\u001b[39;49m(\u001b[39m*\u001b[39;49margs, \u001b[39m*\u001b[39;49m\u001b[39m*\u001b[39;49mkwargs))\n",
      "File \u001b[0;32m~/.pyenv/versions/3.11.0rc2/lib/python3.11/site-packages/rpy2/robjects/functions.py:127\u001b[0m, in \u001b[0;36mFunction.__call__\u001b[0;34m(self, *args, **kwargs)\u001b[0m\n\u001b[1;32m    125\u001b[0m     \u001b[39melse\u001b[39;00m:\n\u001b[1;32m    126\u001b[0m         new_kwargs[k] \u001b[39m=\u001b[39m cv\u001b[39m.\u001b[39mpy2rpy(v)\n\u001b[0;32m--> 127\u001b[0m res \u001b[39m=\u001b[39m \u001b[39msuper\u001b[39;49m(Function, \u001b[39mself\u001b[39;49m)\u001b[39m.\u001b[39;49m\u001b[39m__call__\u001b[39;49m(\u001b[39m*\u001b[39;49mnew_args, \u001b[39m*\u001b[39;49m\u001b[39m*\u001b[39;49mnew_kwargs)\n\u001b[1;32m    128\u001b[0m res \u001b[39m=\u001b[39m cv\u001b[39m.\u001b[39mrpy2py(res)\n\u001b[1;32m    129\u001b[0m \u001b[39mreturn\u001b[39;00m res\n",
      "File \u001b[0;32m~/.pyenv/versions/3.11.0rc2/lib/python3.11/site-packages/rpy2/rinterface_lib/conversion.py:45\u001b[0m, in \u001b[0;36m_cdata_res_to_rinterface.<locals>._\u001b[0;34m(*args, **kwargs)\u001b[0m\n\u001b[1;32m     44\u001b[0m \u001b[39mdef\u001b[39;00m \u001b[39m_\u001b[39m(\u001b[39m*\u001b[39margs, \u001b[39m*\u001b[39m\u001b[39m*\u001b[39mkwargs):\n\u001b[0;32m---> 45\u001b[0m     cdata \u001b[39m=\u001b[39m function(\u001b[39m*\u001b[39;49margs, \u001b[39m*\u001b[39;49m\u001b[39m*\u001b[39;49mkwargs)\n\u001b[1;32m     46\u001b[0m     \u001b[39m# TODO: test cdata is of the expected CType\u001b[39;00m\n\u001b[1;32m     47\u001b[0m     \u001b[39mreturn\u001b[39;00m _cdata_to_rinterface(cdata)\n",
      "File \u001b[0;32m~/.pyenv/versions/3.11.0rc2/lib/python3.11/site-packages/rpy2/rinterface.py:815\u001b[0m, in \u001b[0;36mSexpClosure.__call__\u001b[0;34m(self, *args, **kwargs)\u001b[0m\n\u001b[1;32m    808\u001b[0m     res \u001b[39m=\u001b[39m rmemory\u001b[39m.\u001b[39mprotect(\n\u001b[1;32m    809\u001b[0m         openrlib\u001b[39m.\u001b[39mrlib\u001b[39m.\u001b[39mR_tryEval(\n\u001b[1;32m    810\u001b[0m             call_r,\n\u001b[1;32m    811\u001b[0m             call_context\u001b[39m.\u001b[39m__sexp__\u001b[39m.\u001b[39m_cdata,\n\u001b[1;32m    812\u001b[0m             error_occured)\n\u001b[1;32m    813\u001b[0m     )\n\u001b[1;32m    814\u001b[0m     \u001b[39mif\u001b[39;00m error_occured[\u001b[39m0\u001b[39m]:\n\u001b[0;32m--> 815\u001b[0m         \u001b[39mraise\u001b[39;00m embedded\u001b[39m.\u001b[39mRRuntimeError(_rinterface\u001b[39m.\u001b[39m_geterrmessage())\n\u001b[1;32m    816\u001b[0m \u001b[39mreturn\u001b[39;00m res\n",
      "\u001b[0;31mRRuntimeError\u001b[0m: Error in geom_bar() : \nℹ Error occurred in the 1st layer.\nCaused by error in `FUN()`:\n! object 'group' not found\n"
     ]
    }
   ],
   "source": [
    "%%R\n"
   ]
  },
  {
   "cell_type": "code",
   "execution_count": null,
   "metadata": {},
   "outputs": [],
   "source": []
  }
 ],
 "metadata": {
  "kernelspec": {
   "display_name": "Python 3",
   "language": "python",
   "name": "python3"
  },
  "language_info": {
   "codemirror_mode": {
    "name": "ipython",
    "version": 3
   },
   "file_extension": ".py",
   "mimetype": "text/x-python",
   "name": "python",
   "nbconvert_exporter": "python",
   "pygments_lexer": "ipython3",
   "version": "3.11.0rc2"
  },
  "vscode": {
   "interpreter": {
    "hash": "b98d1416ba4af78ccc77dbb427d441ba2f2a9a9dd9e4ab7ae97c9f50ea8e7608"
   }
  }
 },
 "nbformat": 4,
 "nbformat_minor": 2
}
