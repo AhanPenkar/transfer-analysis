{
 "cells": [
  {
   "attachments": {},
   "cell_type": "markdown",
   "metadata": {},
   "source": [
    "# Merging and Joining\n",
    "In this notebook, we are going to make the master dataframe so that we can analyse our data. \n",
    "\n",
    "This notebook will merge the data from transfermarkt and countrywise data from FBref.com, this will allow us to do a countrywise analysis."
   ]
  },
  {
   "attachments": {},
   "cell_type": "markdown",
   "metadata": {},
   "source": [
    "### Standard Python + R setup and imports\n",
    "\n",
    "Work in this notebook so I can test viz in R as well.\n",
    "Also imported fuzzy pandas."
   ]
  },
  {
   "cell_type": "code",
   "execution_count": 59,
   "metadata": {},
   "outputs": [
    {
     "name": "stdout",
     "output_type": "stream",
     "text": [
      "The rpy2.ipython extension is already loaded. To reload it, use:\n",
      "  %reload_ext rpy2.ipython\n",
      "The autoreload extension is already loaded. To reload it, use:\n",
      "  %reload_ext autoreload\n"
     ]
    }
   ],
   "source": [
    "%load_ext rpy2.ipython\n",
    "%load_ext autoreload\n",
    "%autoreload 2\n",
    "\n",
    "%matplotlib inline  \n",
    "from matplotlib import rcParams\n",
    "rcParams['figure.figsize'] = (16, 100)\n",
    "\n",
    "import warnings\n",
    "from rpy2.rinterface import RRuntimeWarning\n",
    "warnings.filterwarnings(\"ignore\") # Ignore all warnings\n",
    "# warnings.filterwarnings(\"ignore\", category=RRuntimeWarning) # Show some warnings\n",
    "\n",
    "import pandas as pd\n",
    "import numpy as np\n",
    "import matplotlib.pyplot as plt\n",
    "from IPython.display import display, HTML\n",
    "import fuzzy_pandas as fpd"
   ]
  },
  {
   "cell_type": "code",
   "execution_count": 23,
   "metadata": {},
   "outputs": [
    {
     "data": {
      "application/javascript": "// Disable auto-scrolling\nIPython.OutputArea.prototype._should_scroll = function(lines) {\n    return false;\n}\n",
      "text/plain": [
       "<IPython.core.display.Javascript object>"
      ]
     },
     "metadata": {},
     "output_type": "display_data"
    }
   ],
   "source": [
    "%%javascript\n",
    "// Disable auto-scrolling\n",
    "IPython.OutputArea.prototype._should_scroll = function(lines) {\n",
    "    return false;\n",
    "}"
   ]
  },
  {
   "cell_type": "code",
   "execution_count": 24,
   "metadata": {},
   "outputs": [],
   "source": [
    "%%R\n",
    "\n",
    "# My commonly used R imports\n",
    "require('tidyverse')"
   ]
  },
  {
   "attachments": {},
   "cell_type": "markdown",
   "metadata": {},
   "source": [
    "## Clean up\n",
    "\n",
    "add the country of the Club involved. How do we add the club involved for over 30 countries?"
   ]
  },
  {
   "cell_type": "code",
   "execution_count": 72,
   "metadata": {
    "notebookRunGroups": {
     "groupValue": ""
    }
   },
   "outputs": [
    {
     "data": {
      "text/html": [
       "<div>\n",
       "<style scoped>\n",
       "    .dataframe tbody tr th:only-of-type {\n",
       "        vertical-align: middle;\n",
       "    }\n",
       "\n",
       "    .dataframe tbody tr th {\n",
       "        vertical-align: top;\n",
       "    }\n",
       "\n",
       "    .dataframe thead th {\n",
       "        text-align: right;\n",
       "    }\n",
       "</style>\n",
       "<table border=\"1\" class=\"dataframe\">\n",
       "  <thead>\n",
       "    <tr style=\"text-align: right;\">\n",
       "      <th></th>\n",
       "      <th>club_name</th>\n",
       "      <th>player_name</th>\n",
       "      <th>age</th>\n",
       "      <th>position</th>\n",
       "      <th>club_involved_name</th>\n",
       "      <th>fee</th>\n",
       "      <th>transfer_movement</th>\n",
       "      <th>transfer_period</th>\n",
       "      <th>fee_cleaned</th>\n",
       "      <th>league_name</th>\n",
       "      <th>year</th>\n",
       "      <th>season</th>\n",
       "    </tr>\n",
       "  </thead>\n",
       "  <tbody>\n",
       "    <tr>\n",
       "      <th>22540</th>\n",
       "      <td>Liverpool FC</td>\n",
       "      <td>Ben Woodburn</td>\n",
       "      <td>22.0</td>\n",
       "      <td>Attacking Midfield</td>\n",
       "      <td>Heart of Midl.</td>\n",
       "      <td>End of loanMay 31, 2022</td>\n",
       "      <td>in</td>\n",
       "      <td>Summer</td>\n",
       "      <td>NaN</td>\n",
       "      <td>Premier League</td>\n",
       "      <td>2021</td>\n",
       "      <td>2021/2022</td>\n",
       "    </tr>\n",
       "    <tr>\n",
       "      <th>2231</th>\n",
       "      <td>Newcastle United</td>\n",
       "      <td>Paul Kitson</td>\n",
       "      <td>26.0</td>\n",
       "      <td>Centre-Forward</td>\n",
       "      <td>West Ham</td>\n",
       "      <td>€3.50m</td>\n",
       "      <td>out</td>\n",
       "      <td>Winter</td>\n",
       "      <td>3.50</td>\n",
       "      <td>Premier League</td>\n",
       "      <td>1996</td>\n",
       "      <td>1996/1997</td>\n",
       "    </tr>\n",
       "    <tr>\n",
       "      <th>11164</th>\n",
       "      <td>Tottenham Hotspur</td>\n",
       "      <td>Younès Kaboul</td>\n",
       "      <td>22.0</td>\n",
       "      <td>Centre-Back</td>\n",
       "      <td>Portsmouth</td>\n",
       "      <td>€6.25m</td>\n",
       "      <td>out</td>\n",
       "      <td>Summer</td>\n",
       "      <td>6.25</td>\n",
       "      <td>Premier League</td>\n",
       "      <td>2008</td>\n",
       "      <td>2008/2009</td>\n",
       "    </tr>\n",
       "    <tr>\n",
       "      <th>7301</th>\n",
       "      <td>Arsenal FC</td>\n",
       "      <td>Arturo Lupoli</td>\n",
       "      <td>17.0</td>\n",
       "      <td>Centre-Forward</td>\n",
       "      <td>Parma FC Youth</td>\n",
       "      <td>€300Th.</td>\n",
       "      <td>in</td>\n",
       "      <td>Summer</td>\n",
       "      <td>0.30</td>\n",
       "      <td>Premier League</td>\n",
       "      <td>2004</td>\n",
       "      <td>2004/2005</td>\n",
       "    </tr>\n",
       "    <tr>\n",
       "      <th>16373</th>\n",
       "      <td>Norwich City</td>\n",
       "      <td>Jacob Murphy</td>\n",
       "      <td>18.0</td>\n",
       "      <td>Right Winger</td>\n",
       "      <td>Swindon Town</td>\n",
       "      <td>loan transfer</td>\n",
       "      <td>out</td>\n",
       "      <td>Winter</td>\n",
       "      <td>NaN</td>\n",
       "      <td>Premier League</td>\n",
       "      <td>2013</td>\n",
       "      <td>2013/2014</td>\n",
       "    </tr>\n",
       "  </tbody>\n",
       "</table>\n",
       "</div>"
      ],
      "text/plain": [
       "               club_name    player_name   age            position  \\\n",
       "22540       Liverpool FC   Ben Woodburn  22.0  Attacking Midfield   \n",
       "2231    Newcastle United    Paul Kitson  26.0      Centre-Forward   \n",
       "11164  Tottenham Hotspur  Younès Kaboul  22.0         Centre-Back   \n",
       "7301          Arsenal FC  Arturo Lupoli  17.0      Centre-Forward   \n",
       "16373       Norwich City   Jacob Murphy  18.0        Right Winger   \n",
       "\n",
       "      club_involved_name                      fee transfer_movement  \\\n",
       "22540     Heart of Midl.  End of loanMay 31, 2022                in   \n",
       "2231            West Ham                   €3.50m               out   \n",
       "11164         Portsmouth                   €6.25m               out   \n",
       "7301      Parma FC Youth                  €300Th.                in   \n",
       "16373       Swindon Town            loan transfer               out   \n",
       "\n",
       "      transfer_period  fee_cleaned     league_name  year     season  \n",
       "22540          Summer          NaN  Premier League  2021  2021/2022  \n",
       "2231           Winter         3.50  Premier League  1996  1996/1997  \n",
       "11164          Summer         6.25  Premier League  2008  2008/2009  \n",
       "7301           Summer         0.30  Premier League  2004  2004/2005  \n",
       "16373          Winter          NaN  Premier League  2013  2013/2014  "
      ]
     },
     "execution_count": 72,
     "metadata": {},
     "output_type": "execute_result"
    }
   ],
   "source": [
    "# This is the not the original df, I have overwritten it\n",
    "prem_df = pd.read_csv('data/premier-league.csv')\n",
    "prem_df.sample(5)"
   ]
  },
  {
   "cell_type": "code",
   "execution_count": 79,
   "metadata": {},
   "outputs": [],
   "source": [
    "#Let's read in the rest of the leagues\n",
    "bundesliga_df = pd.read_csv('data/1-bundesliga.csv')\n",
    "championship_df = pd.read_csv('data/championship.csv')\n",
    "laliga_df = pd.read_csv('data/primera-division.csv')\n",
    "ligue1_df = pd.read_csv('data/ligue-1.csv')\n",
    "seriea_df = pd.read_csv('data/serie-a.csv')\n",
    "liganos_df = pd.read_csv('data/liga-nos.csv')\n",
    "eredivisie_df = pd.read_csv('data/eredivisie.csv')\n",
    "russian_league_df = pd.read_csv('data/premier-liga.csv')"
   ]
  },
  {
   "cell_type": "code",
   "execution_count": 92,
   "metadata": {},
   "outputs": [
    {
     "data": {
      "text/plain": [
       "175832"
      ]
     },
     "execution_count": 92,
     "metadata": {},
     "output_type": "execute_result"
    }
   ],
   "source": [
    "#Let's join all the leagues into one dataframe\n",
    "leagues_df = pd.concat([prem_df, bundesliga_df, championship_df, laliga_df, ligue1_df, seriea_df, liganos_df, eredivisie_df, russian_league_df], ignore_index=True)\n",
    "leagues_df.sample(5)\n",
    "len(leagues_df)"
   ]
  },
  {
   "attachments": {},
   "cell_type": "markdown",
   "metadata": {},
   "source": [
    "## Doing a join with the country databases\n",
    "We'll have to use fuzzy pandas and asses the damage after we get them in. "
   ]
  },
  {
   "cell_type": "code",
   "execution_count": 96,
   "metadata": {},
   "outputs": [],
   "source": [
    "#Also add the name of the country as a column so that we can read it in later\n",
    "spain_df = pd.read_csv('data/spain_clubs.csv')\n",
    "spain_df['country'] = 'Spain'\n",
    "\n",
    "germany_df = pd.read_csv('data/germany_clubs.csv')\n",
    "germany_df['country'] = 'Germany'\n",
    "\n",
    "italy_df = pd.read_csv('data/italy_clubs.csv')\n",
    "italy_df['country'] = 'Italy'\n",
    "\n",
    "english_df = pd.read_csv('data/english_clubs.csv')\n",
    "english_df['country'] = 'England'\n",
    "\n",
    "france_df = pd.read_csv('data/france_clubs.csv')\n",
    "france_df['country'] = 'France'\n",
    "\n",
    "scotland_df = pd.read_csv('data/scotland_clubs.csv')\n",
    "scotland_df['country'] = 'Scotland'\n",
    "\n",
    "belgium_df = pd.read_csv('data/belgium_clubs.csv')\n",
    "belgium_df['country'] = 'Belgium'\n",
    "\n",
    "turkey_df = pd.read_csv('data/turkey_clubs.csv')\n",
    "turkey_df['country'] = 'Turkey'\n",
    "\n",
    "korea_df = pd.read_csv('data/korea_clubs.csv')\n",
    "korea_df['country'] = 'Korea'\n",
    "\n",
    "japan_df = pd.read_csv('data/japan_clubs.csv')\n",
    "japan_df['country'] = 'Japan'\n",
    "\n",
    "netherlands_df = pd.read_csv('data/netherlands_clubs.csv')\n",
    "netherlands_df['country'] = 'Netherlands'\n",
    "\n",
    "brazil_df = pd.read_csv('data/brazil_clubs.csv')\n",
    "brazil_df['country'] = 'Brazil'\n",
    "\n",
    "portugal_df = pd.read_csv('data/portugal_clubs.csv')\n",
    "portugal_df['country'] = 'Portugal'\n",
    "\n",
    "ukraine_df = pd.read_csv('data/ukraine_clubs.csv')\n",
    "ukraine_df['country'] = 'Ukraine'\n",
    "\n",
    "denmark_df = pd.read_csv('data/denmark_clubs.csv')\n",
    "denmark_df['country'] = 'Denmark'\n",
    "\n",
    "russia_df = pd.read_csv('data/russia_clubs.csv')\n",
    "russia_df['country'] = 'Russia'\n",
    "\n",
    "sweden_df = pd.read_csv('data/sweden_clubs.csv')\n",
    "sweden_df['country'] = 'Sweden'\n",
    "\n",
    "austria_df = pd.read_csv('data/austria_clubs.csv')\n",
    "austria_df['country'] = 'Austria'\n",
    "\n",
    "croatia_df = pd.read_csv('data/croatia_clubs.csv')\n",
    "croatia_df['country'] = 'Croatia'\n"
   ]
  },
  {
   "cell_type": "code",
   "execution_count": 97,
   "metadata": {},
   "outputs": [
    {
     "data": {
      "text/html": [
       "<div>\n",
       "<style scoped>\n",
       "    .dataframe tbody tr th:only-of-type {\n",
       "        vertical-align: middle;\n",
       "    }\n",
       "\n",
       "    .dataframe tbody tr th {\n",
       "        vertical-align: top;\n",
       "    }\n",
       "\n",
       "    .dataframe thead th {\n",
       "        text-align: right;\n",
       "    }\n",
       "</style>\n",
       "<table border=\"1\" class=\"dataframe\">\n",
       "  <thead>\n",
       "    <tr style=\"text-align: right;\">\n",
       "      <th></th>\n",
       "      <th>Squad</th>\n",
       "      <th>Gender</th>\n",
       "      <th>Comp</th>\n",
       "      <th>From</th>\n",
       "      <th>To</th>\n",
       "      <th>Comps</th>\n",
       "      <th>Champs</th>\n",
       "      <th>Other Names</th>\n",
       "      <th>country</th>\n",
       "    </tr>\n",
       "  </thead>\n",
       "  <tbody>\n",
       "    <tr>\n",
       "      <th>465</th>\n",
       "      <td>Hashtag United FC</td>\n",
       "      <td>M</td>\n",
       "      <td>NaN</td>\n",
       "      <td>2020-2021</td>\n",
       "      <td>2022-2023</td>\n",
       "      <td>0</td>\n",
       "      <td>NaN</td>\n",
       "      <td>NaN</td>\n",
       "      <td>England</td>\n",
       "    </tr>\n",
       "    <tr>\n",
       "      <th>1271</th>\n",
       "      <td>CF Illueca</td>\n",
       "      <td>M</td>\n",
       "      <td>NaN</td>\n",
       "      <td>2019-2020</td>\n",
       "      <td>2019-2020</td>\n",
       "      <td>0</td>\n",
       "      <td>0.0</td>\n",
       "      <td>NaN</td>\n",
       "      <td>Spain</td>\n",
       "    </tr>\n",
       "    <tr>\n",
       "      <th>298</th>\n",
       "      <td>Colne FC</td>\n",
       "      <td>M</td>\n",
       "      <td>NaN</td>\n",
       "      <td>2017-2018</td>\n",
       "      <td>2022-2023</td>\n",
       "      <td>0</td>\n",
       "      <td>NaN</td>\n",
       "      <td>NaN</td>\n",
       "      <td>England</td>\n",
       "    </tr>\n",
       "    <tr>\n",
       "      <th>2861</th>\n",
       "      <td>OH Leuven</td>\n",
       "      <td>M</td>\n",
       "      <td>Belgian First Division A</td>\n",
       "      <td>2011-2012</td>\n",
       "      <td>2022-2023</td>\n",
       "      <td>12</td>\n",
       "      <td>0.0</td>\n",
       "      <td>NaN</td>\n",
       "      <td>Belgium</td>\n",
       "    </tr>\n",
       "    <tr>\n",
       "      <th>755</th>\n",
       "      <td>Rochdale AFC</td>\n",
       "      <td>M</td>\n",
       "      <td>EFL League Two</td>\n",
       "      <td>2002-2003</td>\n",
       "      <td>2022-2023</td>\n",
       "      <td>21</td>\n",
       "      <td>0.0</td>\n",
       "      <td>NaN</td>\n",
       "      <td>England</td>\n",
       "    </tr>\n",
       "  </tbody>\n",
       "</table>\n",
       "</div>"
      ],
      "text/plain": [
       "                  Squad Gender                      Comp       From  \\\n",
       "465   Hashtag United FC      M                       NaN  2020-2021   \n",
       "1271         CF Illueca      M                       NaN  2019-2020   \n",
       "298            Colne FC      M                       NaN  2017-2018   \n",
       "2861          OH Leuven      M  Belgian First Division A  2011-2012   \n",
       "755        Rochdale AFC      M            EFL League Two  2002-2003   \n",
       "\n",
       "             To  Comps  Champs Other Names  country  \n",
       "465   2022-2023      0     NaN         NaN  England  \n",
       "1271  2019-2020      0     0.0         NaN    Spain  \n",
       "298   2022-2023      0     NaN         NaN  England  \n",
       "2861  2022-2023     12     0.0         NaN  Belgium  \n",
       "755   2022-2023     21     0.0         NaN  England  "
      ]
     },
     "execution_count": 97,
     "metadata": {},
     "output_type": "execute_result"
    }
   ],
   "source": [
    "#Concatenate all the dataframes\n",
    "country_df = pd.concat([austria_df, english_df, russia_df, sweden_df, spain_df, denmark_df, ukraine_df, germany_df, italy_df, france_df, scotland_df, belgium_df, turkey_df, korea_df, japan_df, netherlands_df, brazil_df, portugal_df], ignore_index=True)\n",
    "country_df.sample(5)\n",
    "\n"
   ]
  },
  {
   "attachments": {},
   "cell_type": "markdown",
   "metadata": {},
   "source": [
    "Let's use fuzzy pandas and do a join "
   ]
  },
  {
   "cell_type": "code",
   "execution_count": 98,
   "metadata": {},
   "outputs": [
    {
     "data": {
      "text/plain": [
       "2882"
      ]
     },
     "execution_count": 98,
     "metadata": {},
     "output_type": "execute_result"
    }
   ],
   "source": [
    "matches = fpd.fuzzy_merge(prem_df, country_df, left_on=['club_involved_name'], right_on=['Squad'])\n",
    "len(matches) "
   ]
  },
  {
   "cell_type": "code",
   "execution_count": 102,
   "metadata": {},
   "outputs": [
    {
     "data": {
      "text/plain": [
       "36483"
      ]
     },
     "execution_count": 102,
     "metadata": {},
     "output_type": "execute_result"
    }
   ],
   "source": [
    "len(results)"
   ]
  },
  {
   "cell_type": "code",
   "execution_count": 100,
   "metadata": {},
   "outputs": [
    {
     "data": {
      "text/html": [
       "<div>\n",
       "<style scoped>\n",
       "    .dataframe tbody tr th:only-of-type {\n",
       "        vertical-align: middle;\n",
       "    }\n",
       "\n",
       "    .dataframe tbody tr th {\n",
       "        vertical-align: top;\n",
       "    }\n",
       "\n",
       "    .dataframe thead th {\n",
       "        text-align: right;\n",
       "    }\n",
       "</style>\n",
       "<table border=\"1\" class=\"dataframe\">\n",
       "  <thead>\n",
       "    <tr style=\"text-align: right;\">\n",
       "      <th></th>\n",
       "      <th>club_name</th>\n",
       "      <th>player_name</th>\n",
       "      <th>club_involved_name</th>\n",
       "      <th>year</th>\n",
       "      <th>transfer_movement</th>\n",
       "      <th>transfer_period</th>\n",
       "      <th>fee_cleaned</th>\n",
       "      <th>league_name</th>\n",
       "      <th>country</th>\n",
       "      <th>Comp</th>\n",
       "    </tr>\n",
       "  </thead>\n",
       "  <tbody>\n",
       "    <tr>\n",
       "      <th>20561</th>\n",
       "      <td>Angers SCO</td>\n",
       "      <td>Yoane Wissa</td>\n",
       "      <td>AC Ajaccio</td>\n",
       "      <td>2017</td>\n",
       "      <td>out</td>\n",
       "      <td>Summer</td>\n",
       "      <td>NaN</td>\n",
       "      <td>Ligue 1</td>\n",
       "      <td>France</td>\n",
       "      <td>Ligue 1</td>\n",
       "    </tr>\n",
       "    <tr>\n",
       "      <th>9221</th>\n",
       "      <td>Reading FC</td>\n",
       "      <td>Dominic Samuel</td>\n",
       "      <td>Gillingham FC</td>\n",
       "      <td>2015</td>\n",
       "      <td>out</td>\n",
       "      <td>Winter</td>\n",
       "      <td>NaN</td>\n",
       "      <td>Championship</td>\n",
       "      <td>England</td>\n",
       "      <td>EFL League Two</td>\n",
       "    </tr>\n",
       "    <tr>\n",
       "      <th>4745</th>\n",
       "      <td>VfL Wolfsburg</td>\n",
       "      <td>Andrés D'Alessandro</td>\n",
       "      <td>Real Zaragoza</td>\n",
       "      <td>2006</td>\n",
       "      <td>out</td>\n",
       "      <td>Summer</td>\n",
       "      <td>0.8</td>\n",
       "      <td>1 Bundesliga</td>\n",
       "      <td>Spain</td>\n",
       "      <td>Segunda División</td>\n",
       "    </tr>\n",
       "    <tr>\n",
       "      <th>32120</th>\n",
       "      <td>Willem II Tilburg</td>\n",
       "      <td>Geert den Ouden</td>\n",
       "      <td>ADO Den Haag</td>\n",
       "      <td>2006</td>\n",
       "      <td>in</td>\n",
       "      <td>Summer</td>\n",
       "      <td>NaN</td>\n",
       "      <td>Eredivisie</td>\n",
       "      <td>Netherlands</td>\n",
       "      <td>Eerste Divisie</td>\n",
       "    </tr>\n",
       "    <tr>\n",
       "      <th>11339</th>\n",
       "      <td>CA Osasuna</td>\n",
       "      <td>Luis Pérez</td>\n",
       "      <td>Real Unión</td>\n",
       "      <td>2000</td>\n",
       "      <td>out</td>\n",
       "      <td>Summer</td>\n",
       "      <td>NaN</td>\n",
       "      <td>Primera Division</td>\n",
       "      <td>Spain</td>\n",
       "      <td>NaN</td>\n",
       "    </tr>\n",
       "  </tbody>\n",
       "</table>\n",
       "</div>"
      ],
      "text/plain": [
       "               club_name          player_name club_involved_name  year  \\\n",
       "20561         Angers SCO          Yoane Wissa         AC Ajaccio  2017   \n",
       "9221          Reading FC       Dominic Samuel      Gillingham FC  2015   \n",
       "4745       VfL Wolfsburg  Andrés D'Alessandro      Real Zaragoza  2006   \n",
       "32120  Willem II Tilburg      Geert den Ouden       ADO Den Haag  2006   \n",
       "11339         CA Osasuna           Luis Pérez         Real Unión  2000   \n",
       "\n",
       "      transfer_movement transfer_period  fee_cleaned       league_name  \\\n",
       "20561               out          Summer          NaN           Ligue 1   \n",
       "9221                out          Winter          NaN      Championship   \n",
       "4745                out          Summer          0.8      1 Bundesliga   \n",
       "32120                in          Summer          NaN        Eredivisie   \n",
       "11339               out          Summer          NaN  Primera Division   \n",
       "\n",
       "           country              Comp  \n",
       "20561       France           Ligue 1  \n",
       "9221       England    EFL League Two  \n",
       "4745         Spain  Segunda División  \n",
       "32120  Netherlands    Eerste Divisie  \n",
       "11339        Spain               NaN  "
      ]
     },
     "execution_count": 100,
     "metadata": {},
     "output_type": "execute_result"
    }
   ],
   "source": [
    "results = fpd.fuzzy_merge(leagues_df, country_df,\n",
    "            left_on=['club_involved_name'],\n",
    "            right_on=['Squad'],\n",
    "            keep_left=['club_name','player_name', 'club_involved_name', 'year', 'transfer_movement', 'transfer_period', 'fee_cleaned', 'league_name'],\n",
    "            keep_right=['country','Comp'])\n",
    "results.sample(5)"
   ]
  },
  {
   "cell_type": "code",
   "execution_count": 101,
   "metadata": {},
   "outputs": [
    {
     "data": {
      "text/html": [
       "<div>\n",
       "<style scoped>\n",
       "    .dataframe tbody tr th:only-of-type {\n",
       "        vertical-align: middle;\n",
       "    }\n",
       "\n",
       "    .dataframe tbody tr th {\n",
       "        vertical-align: top;\n",
       "    }\n",
       "\n",
       "    .dataframe thead th {\n",
       "        text-align: right;\n",
       "    }\n",
       "</style>\n",
       "<table border=\"1\" class=\"dataframe\">\n",
       "  <thead>\n",
       "    <tr style=\"text-align: right;\">\n",
       "      <th></th>\n",
       "      <th>club_name</th>\n",
       "      <th>player_name</th>\n",
       "      <th>club_involved_name</th>\n",
       "      <th>year</th>\n",
       "      <th>transfer_movement</th>\n",
       "      <th>transfer_period</th>\n",
       "      <th>fee_cleaned</th>\n",
       "      <th>league_name</th>\n",
       "      <th>country</th>\n",
       "      <th>Comp</th>\n",
       "    </tr>\n",
       "  </thead>\n",
       "  <tbody>\n",
       "  </tbody>\n",
       "</table>\n",
       "</div>"
      ],
      "text/plain": [
       "Empty DataFrame\n",
       "Columns: [club_name, player_name, club_involved_name, year, transfer_movement, transfer_period, fee_cleaned, league_name, country, Comp]\n",
       "Index: []"
      ]
     },
     "execution_count": 101,
     "metadata": {},
     "output_type": "execute_result"
    }
   ],
   "source": [
    "#From results DF, we want to see how many tranfers are in each country\n",
    "#How much money did la liga spend on transfers.\n",
    "#in results, show me the matches where the country is NaN\n",
    "results[results['country'].isnull()]"
   ]
  },
  {
   "cell_type": "code",
   "execution_count": null,
   "metadata": {},
   "outputs": [],
   "source": []
  }
 ],
 "metadata": {
  "kernelspec": {
   "display_name": "Python 3",
   "language": "python",
   "name": "python3"
  },
  "language_info": {
   "codemirror_mode": {
    "name": "ipython",
    "version": 3
   },
   "file_extension": ".py",
   "mimetype": "text/x-python",
   "name": "python",
   "nbconvert_exporter": "python",
   "pygments_lexer": "ipython3",
   "version": "3.11.0rc2"
  },
  "vscode": {
   "interpreter": {
    "hash": "b98d1416ba4af78ccc77dbb427d441ba2f2a9a9dd9e4ab7ae97c9f50ea8e7608"
   }
  }
 },
 "nbformat": 4,
 "nbformat_minor": 2
}
