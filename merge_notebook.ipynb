{
 "cells": [
  {
   "attachments": {},
   "cell_type": "markdown",
   "metadata": {},
   "source": [
    "# Merging and Joining\n",
    "In this notebook, we are going to make the master dataframe so that we can analyse our data. \n",
    "\n",
    "This notebook will merge the data from transfermarkt and countrywise data from FBref.com, this will allow us to do a countrywise analysis."
   ]
  },
  {
   "attachments": {},
   "cell_type": "markdown",
   "metadata": {},
   "source": [
    "### Standard Python + R setup and imports\n",
    "\n",
    "Work in this notebook so I can test viz in R as well.\n",
    "Also imported fuzzy pandas."
   ]
  },
  {
   "cell_type": "code",
   "execution_count": 17,
   "metadata": {},
   "outputs": [
    {
     "name": "stdout",
     "output_type": "stream",
     "text": [
      "The rpy2.ipython extension is already loaded. To reload it, use:\n",
      "  %reload_ext rpy2.ipython\n",
      "The autoreload extension is already loaded. To reload it, use:\n",
      "  %reload_ext autoreload\n"
     ]
    }
   ],
   "source": [
    "%load_ext rpy2.ipython\n",
    "%load_ext autoreload\n",
    "%autoreload 2\n",
    "\n",
    "%matplotlib inline  \n",
    "from matplotlib import rcParams\n",
    "rcParams['figure.figsize'] = (16, 100)\n",
    "\n",
    "import warnings\n",
    "from rpy2.rinterface import RRuntimeWarning\n",
    "warnings.filterwarnings(\"ignore\") # Ignore all warnings\n",
    "# warnings.filterwarnings(\"ignore\", category=RRuntimeWarning) # Show some warnings\n",
    "\n",
    "import pandas as pd\n",
    "import numpy as np\n",
    "import matplotlib.pyplot as plt\n",
    "from IPython.display import display, HTML\n",
    "import fuzzy_pandas as fpd"
   ]
  },
  {
   "cell_type": "code",
   "execution_count": 18,
   "metadata": {},
   "outputs": [
    {
     "data": {
      "application/javascript": "// Disable auto-scrolling\nIPython.OutputArea.prototype._should_scroll = function(lines) {\n    return false;\n}\n",
      "text/plain": [
       "<IPython.core.display.Javascript object>"
      ]
     },
     "metadata": {},
     "output_type": "display_data"
    }
   ],
   "source": [
    "%%javascript\n",
    "// Disable auto-scrolling\n",
    "IPython.OutputArea.prototype._should_scroll = function(lines) {\n",
    "    return false;\n",
    "}"
   ]
  },
  {
   "cell_type": "code",
   "execution_count": 19,
   "metadata": {},
   "outputs": [],
   "source": [
    "%%R\n",
    "\n",
    "# My commonly used R imports\n",
    "require('tidyverse')"
   ]
  },
  {
   "attachments": {},
   "cell_type": "markdown",
   "metadata": {},
   "source": [
    "## Clean up\n",
    "\n",
    "add the country of the Club involved. How do we add the club involved for over 30 countries?"
   ]
  },
  {
   "cell_type": "code",
   "execution_count": 53,
   "metadata": {
    "notebookRunGroups": {
     "groupValue": ""
    }
   },
   "outputs": [
    {
     "data": {
      "text/html": [
       "<div>\n",
       "<style scoped>\n",
       "    .dataframe tbody tr th:only-of-type {\n",
       "        vertical-align: middle;\n",
       "    }\n",
       "\n",
       "    .dataframe tbody tr th {\n",
       "        vertical-align: top;\n",
       "    }\n",
       "\n",
       "    .dataframe thead th {\n",
       "        text-align: right;\n",
       "    }\n",
       "</style>\n",
       "<table border=\"1\" class=\"dataframe\">\n",
       "  <thead>\n",
       "    <tr style=\"text-align: right;\">\n",
       "      <th></th>\n",
       "      <th>club_name</th>\n",
       "      <th>player_name</th>\n",
       "      <th>age</th>\n",
       "      <th>position</th>\n",
       "      <th>club_involved_name</th>\n",
       "      <th>fee</th>\n",
       "      <th>transfer_movement</th>\n",
       "      <th>transfer_period</th>\n",
       "      <th>fee_cleaned</th>\n",
       "      <th>league_name</th>\n",
       "      <th>year</th>\n",
       "      <th>season</th>\n",
       "    </tr>\n",
       "  </thead>\n",
       "  <tbody>\n",
       "    <tr>\n",
       "      <th>3479</th>\n",
       "      <td>Wimbledon FC</td>\n",
       "      <td>Morten Bakke</td>\n",
       "      <td>30.0</td>\n",
       "      <td>Goalkeeper</td>\n",
       "      <td>Molde</td>\n",
       "      <td>loan transfer</td>\n",
       "      <td>in</td>\n",
       "      <td>Winter</td>\n",
       "      <td>NaN</td>\n",
       "      <td>Premier League</td>\n",
       "      <td>1998</td>\n",
       "      <td>1998/1999</td>\n",
       "    </tr>\n",
       "    <tr>\n",
       "      <th>1739</th>\n",
       "      <td>Middlesbrough FC</td>\n",
       "      <td>Branco</td>\n",
       "      <td>31.0</td>\n",
       "      <td>Left-Back</td>\n",
       "      <td>Corinthians</td>\n",
       "      <td>?</td>\n",
       "      <td>in</td>\n",
       "      <td>Winter</td>\n",
       "      <td>NaN</td>\n",
       "      <td>Premier League</td>\n",
       "      <td>1995</td>\n",
       "      <td>1995/1996</td>\n",
       "    </tr>\n",
       "    <tr>\n",
       "      <th>3861</th>\n",
       "      <td>Middlesbrough FC</td>\n",
       "      <td>Clayton Blackmore</td>\n",
       "      <td>34.0</td>\n",
       "      <td>Left-Back</td>\n",
       "      <td>Barnsley FC</td>\n",
       "      <td>?</td>\n",
       "      <td>out</td>\n",
       "      <td>Summer</td>\n",
       "      <td>NaN</td>\n",
       "      <td>Premier League</td>\n",
       "      <td>1999</td>\n",
       "      <td>1999/2000</td>\n",
       "    </tr>\n",
       "    <tr>\n",
       "      <th>5156</th>\n",
       "      <td>Middlesbrough FC</td>\n",
       "      <td>David Murphy</td>\n",
       "      <td>17.0</td>\n",
       "      <td>Left-Back</td>\n",
       "      <td>Boro U18</td>\n",
       "      <td>-</td>\n",
       "      <td>in</td>\n",
       "      <td>Summer</td>\n",
       "      <td>NaN</td>\n",
       "      <td>Premier League</td>\n",
       "      <td>2001</td>\n",
       "      <td>2001/2002</td>\n",
       "    </tr>\n",
       "    <tr>\n",
       "      <th>10641</th>\n",
       "      <td>Reading FC</td>\n",
       "      <td>John Halls</td>\n",
       "      <td>25.0</td>\n",
       "      <td>Defensive Midfield</td>\n",
       "      <td>Crystal Palace</td>\n",
       "      <td>End of loanFeb 1, 2008</td>\n",
       "      <td>in</td>\n",
       "      <td>Winter</td>\n",
       "      <td>NaN</td>\n",
       "      <td>Premier League</td>\n",
       "      <td>2007</td>\n",
       "      <td>2007/2008</td>\n",
       "    </tr>\n",
       "  </tbody>\n",
       "</table>\n",
       "</div>"
      ],
      "text/plain": [
       "              club_name        player_name   age            position  \\\n",
       "3479       Wimbledon FC       Morten Bakke  30.0          Goalkeeper   \n",
       "1739   Middlesbrough FC             Branco  31.0           Left-Back   \n",
       "3861   Middlesbrough FC  Clayton Blackmore  34.0           Left-Back   \n",
       "5156   Middlesbrough FC       David Murphy  17.0           Left-Back   \n",
       "10641        Reading FC         John Halls  25.0  Defensive Midfield   \n",
       "\n",
       "      club_involved_name                     fee transfer_movement  \\\n",
       "3479               Molde           loan transfer                in   \n",
       "1739         Corinthians                       ?                in   \n",
       "3861         Barnsley FC                       ?               out   \n",
       "5156            Boro U18                       -                in   \n",
       "10641     Crystal Palace  End of loanFeb 1, 2008                in   \n",
       "\n",
       "      transfer_period  fee_cleaned     league_name  year     season  \n",
       "3479           Winter          NaN  Premier League  1998  1998/1999  \n",
       "1739           Winter          NaN  Premier League  1995  1995/1996  \n",
       "3861           Summer          NaN  Premier League  1999  1999/2000  \n",
       "5156           Summer          NaN  Premier League  2001  2001/2002  \n",
       "10641          Winter          NaN  Premier League  2007  2007/2008  "
      ]
     },
     "execution_count": 53,
     "metadata": {},
     "output_type": "execute_result"
    }
   ],
   "source": [
    "# This is the not the original df, I have overwritten it\n",
    "prem_df = pd.read_csv('data/premier-league.csv')\n",
    "prem_df.sample(5)"
   ]
  },
  {
   "cell_type": "code",
   "execution_count": 54,
   "metadata": {},
   "outputs": [
    {
     "data": {
      "text/html": [
       "<div>\n",
       "<style scoped>\n",
       "    .dataframe tbody tr th:only-of-type {\n",
       "        vertical-align: middle;\n",
       "    }\n",
       "\n",
       "    .dataframe tbody tr th {\n",
       "        vertical-align: top;\n",
       "    }\n",
       "\n",
       "    .dataframe thead th {\n",
       "        text-align: right;\n",
       "    }\n",
       "</style>\n",
       "<table border=\"1\" class=\"dataframe\">\n",
       "  <thead>\n",
       "    <tr style=\"text-align: right;\">\n",
       "      <th></th>\n",
       "      <th>club_name</th>\n",
       "      <th>player_name</th>\n",
       "      <th>age</th>\n",
       "      <th>position</th>\n",
       "      <th>club_involved_name</th>\n",
       "      <th>fee</th>\n",
       "      <th>transfer_movement</th>\n",
       "      <th>transfer_period</th>\n",
       "      <th>fee_cleaned</th>\n",
       "      <th>league_name</th>\n",
       "      <th>year</th>\n",
       "      <th>season</th>\n",
       "    </tr>\n",
       "  </thead>\n",
       "  <tbody>\n",
       "    <tr>\n",
       "      <th>1788</th>\n",
       "      <td>Bolton Wanderers</td>\n",
       "      <td>Enzo Gambaro</td>\n",
       "      <td>29.0</td>\n",
       "      <td>Left-Back</td>\n",
       "      <td>Milan</td>\n",
       "      <td>free transfer</td>\n",
       "      <td>in</td>\n",
       "      <td>Winter</td>\n",
       "      <td>0.0</td>\n",
       "      <td>Premier League</td>\n",
       "      <td>1995</td>\n",
       "      <td>1995/1996</td>\n",
       "    </tr>\n",
       "    <tr>\n",
       "      <th>1791</th>\n",
       "      <td>Bolton Wanderers</td>\n",
       "      <td>Enzo Gambaro</td>\n",
       "      <td>30.0</td>\n",
       "      <td>Left-Back</td>\n",
       "      <td>Grimsby Town</td>\n",
       "      <td>?</td>\n",
       "      <td>out</td>\n",
       "      <td>Winter</td>\n",
       "      <td>NaN</td>\n",
       "      <td>Premier League</td>\n",
       "      <td>1995</td>\n",
       "      <td>1995/1996</td>\n",
       "    </tr>\n",
       "  </tbody>\n",
       "</table>\n",
       "</div>"
      ],
      "text/plain": [
       "             club_name   player_name   age   position club_involved_name  \\\n",
       "1788  Bolton Wanderers  Enzo Gambaro  29.0  Left-Back              Milan   \n",
       "1791  Bolton Wanderers  Enzo Gambaro  30.0  Left-Back       Grimsby Town   \n",
       "\n",
       "                fee transfer_movement transfer_period  fee_cleaned  \\\n",
       "1788  free transfer                in          Winter          0.0   \n",
       "1791              ?               out          Winter          NaN   \n",
       "\n",
       "         league_name  year     season  \n",
       "1788  Premier League  1995  1995/1996  \n",
       "1791  Premier League  1995  1995/1996  "
      ]
     },
     "execution_count": 54,
     "metadata": {},
     "output_type": "execute_result"
    }
   ],
   "source": [
    "#search for a player_name which contains enzo\n",
    "prem_df[prem_df['player_name'].str.contains('Enzo')]"
   ]
  },
  {
   "cell_type": "code",
   "execution_count": 55,
   "metadata": {},
   "outputs": [],
   "source": [
    "#Let's read in the rest of the leagues\n",
    "bundesliga_df = pd.read_csv('data/1-bundesliga.csv')\n",
    "championship_df = pd.read_csv('data/championship.csv')\n",
    "laliga_df = pd.read_csv('data/primera-division.csv')\n",
    "ligue1_df = pd.read_csv('data/ligue-1.csv')\n",
    "seriea_df = pd.read_csv('data/serie-a.csv')\n",
    "liganos_df = pd.read_csv('data/liga-nos.csv')\n",
    "eredivisie_df = pd.read_csv('data/eredivisie.csv')\n",
    "russian_league_df = pd.read_csv('data/premier-liga.csv')"
   ]
  },
  {
   "cell_type": "code",
   "execution_count": 56,
   "metadata": {},
   "outputs": [
    {
     "data": {
      "text/plain": [
       "club_name\n",
       "Chelsea FC           4253.312\n",
       "Manchester City      3427.667\n",
       "Manchester United    3175.695\n",
       "Liverpool FC         3031.811\n",
       "Tottenham Hotspur    2663.286\n",
       "Arsenal FC           2435.985\n",
       "Everton FC           1921.142\n",
       "Newcastle United     1702.146\n",
       "West Ham United      1648.246\n",
       "Aston Villa          1469.990\n",
       "Name: fee_cleaned, dtype: float64"
      ]
     },
     "execution_count": 56,
     "metadata": {},
     "output_type": "execute_result"
    }
   ],
   "source": [
    "#Sum the the fee_cleaned for prem_df and filter for transfer movement in, group and sort by club_name\n",
    "prem_df.groupby('club_name')['fee_cleaned'].sum().sort_values(ascending=False).head(10) "
   ]
  },
  {
   "cell_type": "code",
   "execution_count": 57,
   "metadata": {},
   "outputs": [
    {
     "data": {
      "text/html": [
       "<div>\n",
       "<style scoped>\n",
       "    .dataframe tbody tr th:only-of-type {\n",
       "        vertical-align: middle;\n",
       "    }\n",
       "\n",
       "    .dataframe tbody tr th {\n",
       "        vertical-align: top;\n",
       "    }\n",
       "\n",
       "    .dataframe thead th {\n",
       "        text-align: right;\n",
       "    }\n",
       "</style>\n",
       "<table border=\"1\" class=\"dataframe\">\n",
       "  <thead>\n",
       "    <tr style=\"text-align: right;\">\n",
       "      <th></th>\n",
       "      <th>club_name</th>\n",
       "      <th>player_name</th>\n",
       "      <th>age</th>\n",
       "      <th>position</th>\n",
       "      <th>club_involved_name</th>\n",
       "      <th>fee</th>\n",
       "      <th>transfer_movement</th>\n",
       "      <th>transfer_period</th>\n",
       "      <th>fee_cleaned</th>\n",
       "      <th>league_name</th>\n",
       "      <th>year</th>\n",
       "      <th>season</th>\n",
       "    </tr>\n",
       "  </thead>\n",
       "  <tbody>\n",
       "    <tr>\n",
       "      <th>0</th>\n",
       "      <td>Middlesbrough FC</td>\n",
       "      <td>Tommy Wright</td>\n",
       "      <td>26.0</td>\n",
       "      <td>Left Winger</td>\n",
       "      <td>Leicester</td>\n",
       "      <td>€910Th.</td>\n",
       "      <td>in</td>\n",
       "      <td>Summer</td>\n",
       "      <td>0.91</td>\n",
       "      <td>Premier League</td>\n",
       "      <td>1992</td>\n",
       "      <td>1992/1993</td>\n",
       "    </tr>\n",
       "    <tr>\n",
       "      <th>1</th>\n",
       "      <td>Middlesbrough FC</td>\n",
       "      <td>Jonathan Gittens</td>\n",
       "      <td>28.0</td>\n",
       "      <td>defence</td>\n",
       "      <td>Southampton</td>\n",
       "      <td>€250Th.</td>\n",
       "      <td>in</td>\n",
       "      <td>Summer</td>\n",
       "      <td>0.25</td>\n",
       "      <td>Premier League</td>\n",
       "      <td>1992</td>\n",
       "      <td>1992/1993</td>\n",
       "    </tr>\n",
       "    <tr>\n",
       "      <th>2</th>\n",
       "      <td>Middlesbrough FC</td>\n",
       "      <td>Chris Morris</td>\n",
       "      <td>28.0</td>\n",
       "      <td>Right-Back</td>\n",
       "      <td>Celtic</td>\n",
       "      <td>?</td>\n",
       "      <td>in</td>\n",
       "      <td>Summer</td>\n",
       "      <td>NaN</td>\n",
       "      <td>Premier League</td>\n",
       "      <td>1992</td>\n",
       "      <td>1992/1993</td>\n",
       "    </tr>\n",
       "    <tr>\n",
       "      <th>3</th>\n",
       "      <td>Middlesbrough FC</td>\n",
       "      <td>Ben Roberts</td>\n",
       "      <td>17.0</td>\n",
       "      <td>Goalkeeper</td>\n",
       "      <td>Boro U18</td>\n",
       "      <td>-</td>\n",
       "      <td>in</td>\n",
       "      <td>Summer</td>\n",
       "      <td>NaN</td>\n",
       "      <td>Premier League</td>\n",
       "      <td>1992</td>\n",
       "      <td>1992/1993</td>\n",
       "    </tr>\n",
       "    <tr>\n",
       "      <th>4</th>\n",
       "      <td>Middlesbrough FC</td>\n",
       "      <td>Andy Todd</td>\n",
       "      <td>17.0</td>\n",
       "      <td>Centre-Back</td>\n",
       "      <td>Boro U18</td>\n",
       "      <td>-</td>\n",
       "      <td>in</td>\n",
       "      <td>Summer</td>\n",
       "      <td>NaN</td>\n",
       "      <td>Premier League</td>\n",
       "      <td>1992</td>\n",
       "      <td>1992/1993</td>\n",
       "    </tr>\n",
       "  </tbody>\n",
       "</table>\n",
       "</div>"
      ],
      "text/plain": [
       "          club_name       player_name   age     position club_involved_name  \\\n",
       "0  Middlesbrough FC      Tommy Wright  26.0  Left Winger          Leicester   \n",
       "1  Middlesbrough FC  Jonathan Gittens  28.0      defence        Southampton   \n",
       "2  Middlesbrough FC      Chris Morris  28.0   Right-Back             Celtic   \n",
       "3  Middlesbrough FC       Ben Roberts  17.0   Goalkeeper           Boro U18   \n",
       "4  Middlesbrough FC         Andy Todd  17.0  Centre-Back           Boro U18   \n",
       "\n",
       "       fee transfer_movement transfer_period  fee_cleaned     league_name  \\\n",
       "0  €910Th.                in          Summer         0.91  Premier League   \n",
       "1  €250Th.                in          Summer         0.25  Premier League   \n",
       "2        ?                in          Summer          NaN  Premier League   \n",
       "3        -                in          Summer          NaN  Premier League   \n",
       "4        -                in          Summer          NaN  Premier League   \n",
       "\n",
       "   year     season  \n",
       "0  1992  1992/1993  \n",
       "1  1992  1992/1993  \n",
       "2  1992  1992/1993  \n",
       "3  1992  1992/1993  \n",
       "4  1992  1992/1993  "
      ]
     },
     "execution_count": 57,
     "metadata": {},
     "output_type": "execute_result"
    }
   ],
   "source": [
    "#Let's join all the leagues into one dataframe\n",
    "leagues_df = pd.concat([prem_df, bundesliga_df, championship_df, laliga_df, ligue1_df, seriea_df, liganos_df, eredivisie_df, russian_league_df], ignore_index=True)\n",
    "\n",
    "#Sum the the fee_cleaned for prem_df and filter for transfer movement in, group and sort by league_name\n",
    "leagues_df_in = leagues_df[leagues_df['transfer_movement'] == 'in']\n",
    "\n",
    "leagues_df_in.head(5)"
   ]
  },
  {
   "cell_type": "code",
   "execution_count": 58,
   "metadata": {},
   "outputs": [
    {
     "data": {
      "text/html": [
       "<div>\n",
       "<style scoped>\n",
       "    .dataframe tbody tr th:only-of-type {\n",
       "        vertical-align: middle;\n",
       "    }\n",
       "\n",
       "    .dataframe tbody tr th {\n",
       "        vertical-align: top;\n",
       "    }\n",
       "\n",
       "    .dataframe thead th {\n",
       "        text-align: right;\n",
       "    }\n",
       "</style>\n",
       "<table border=\"1\" class=\"dataframe\">\n",
       "  <thead>\n",
       "    <tr style=\"text-align: right;\">\n",
       "      <th></th>\n",
       "      <th>league_name</th>\n",
       "      <th>year</th>\n",
       "      <th>transfer_period</th>\n",
       "      <th>fee_cleaned</th>\n",
       "    </tr>\n",
       "  </thead>\n",
       "  <tbody>\n",
       "    <tr>\n",
       "      <th>0</th>\n",
       "      <td>1 Bundesliga</td>\n",
       "      <td>1992</td>\n",
       "      <td>Summer</td>\n",
       "      <td>23.220</td>\n",
       "    </tr>\n",
       "    <tr>\n",
       "      <th>1</th>\n",
       "      <td>1 Bundesliga</td>\n",
       "      <td>1992</td>\n",
       "      <td>Winter</td>\n",
       "      <td>6.175</td>\n",
       "    </tr>\n",
       "    <tr>\n",
       "      <th>2</th>\n",
       "      <td>1 Bundesliga</td>\n",
       "      <td>1993</td>\n",
       "      <td>Summer</td>\n",
       "      <td>35.639</td>\n",
       "    </tr>\n",
       "    <tr>\n",
       "      <th>3</th>\n",
       "      <td>1 Bundesliga</td>\n",
       "      <td>1993</td>\n",
       "      <td>Winter</td>\n",
       "      <td>2.250</td>\n",
       "    </tr>\n",
       "    <tr>\n",
       "      <th>4</th>\n",
       "      <td>1 Bundesliga</td>\n",
       "      <td>1994</td>\n",
       "      <td>Summer</td>\n",
       "      <td>51.727</td>\n",
       "    </tr>\n",
       "  </tbody>\n",
       "</table>\n",
       "</div>"
      ],
      "text/plain": [
       "    league_name  year transfer_period  fee_cleaned\n",
       "0  1 Bundesliga  1992          Summer       23.220\n",
       "1  1 Bundesliga  1992          Winter        6.175\n",
       "2  1 Bundesliga  1993          Summer       35.639\n",
       "3  1 Bundesliga  1993          Winter        2.250\n",
       "4  1 Bundesliga  1994          Summer       51.727"
      ]
     },
     "execution_count": 58,
     "metadata": {},
     "output_type": "execute_result"
    }
   ],
   "source": [
    "#Make a new dataaframe where we group by league_name and year and transfer_period and sum the fee_cleaned\n",
    "leagues_df_in_grouped = leagues_df_in.groupby(['league_name', 'year', 'transfer_period'])['fee_cleaned'].sum().reset_index()\n",
    "leagues_df_in_grouped.head(5)"
   ]
  },
  {
   "cell_type": "code",
   "execution_count": 59,
   "metadata": {},
   "outputs": [],
   "source": [
    "#year_wise = leagues_df_in.groupby(['league_name', 'year'])['fee_cleaned'].sum().unstack().sort_values(2018, ascending=False)\n",
    "#export year_wise to df\n",
    "leagues_df_in_grouped.to_csv('year_wise.csv')\n"
   ]
  },
  {
   "cell_type": "code",
   "execution_count": 52,
   "metadata": {},
   "outputs": [
    {
     "data": {
      "text/html": [
       "<div>\n",
       "<style scoped>\n",
       "    .dataframe tbody tr th:only-of-type {\n",
       "        vertical-align: middle;\n",
       "    }\n",
       "\n",
       "    .dataframe tbody tr th {\n",
       "        vertical-align: top;\n",
       "    }\n",
       "\n",
       "    .dataframe thead th {\n",
       "        text-align: right;\n",
       "    }\n",
       "</style>\n",
       "<table border=\"1\" class=\"dataframe\">\n",
       "  <thead>\n",
       "    <tr style=\"text-align: right;\">\n",
       "      <th></th>\n",
       "      <th>league_name</th>\n",
       "      <th>year</th>\n",
       "      <th>transfer_period</th>\n",
       "      <th>fee_cleaned</th>\n",
       "    </tr>\n",
       "  </thead>\n",
       "  <tbody>\n",
       "    <tr>\n",
       "      <th>341</th>\n",
       "      <td>Premier League</td>\n",
       "      <td>2022</td>\n",
       "      <td>summer</td>\n",
       "      <td>2247.57</td>\n",
       "    </tr>\n",
       "  </tbody>\n",
       "</table>\n",
       "</div>"
      ],
      "text/plain": [
       "        league_name  year transfer_period  fee_cleaned\n",
       "341  Premier League  2022          summer      2247.57"
      ]
     },
     "execution_count": 52,
     "metadata": {},
     "output_type": "execute_result"
    }
   ],
   "source": [
    "#Show me 2022 for league_name Premier League\n",
    "leagues_df_in_grouped[(leagues_df_in_grouped['league_name'] == 'Premier League') & (leagues_df_in_grouped['year'] == 2022)]\n"
   ]
  },
  {
   "cell_type": "code",
   "execution_count": 1,
   "metadata": {},
   "outputs": [
    {
     "ename": "NameError",
     "evalue": "name 'pd' is not defined",
     "output_type": "error",
     "traceback": [
      "\u001b[0;31m---------------------------------------------------------------------------\u001b[0m",
      "\u001b[0;31mNameError\u001b[0m                                 Traceback (most recent call last)",
      "Cell \u001b[0;32mIn [1], line 2\u001b[0m\n\u001b[1;32m      1\u001b[0m \u001b[39m#read in the year_wise df\u001b[39;00m\n\u001b[0;32m----> 2\u001b[0m year_wise \u001b[39m=\u001b[39m pd\u001b[39m.\u001b[39mread_csv(\u001b[39m'\u001b[39m\u001b[39myear_wise.csv\u001b[39m\u001b[39m'\u001b[39m)\n\u001b[1;32m      3\u001b[0m year_wise\n",
      "\u001b[0;31mNameError\u001b[0m: name 'pd' is not defined"
     ]
    }
   ],
   "source": [
    "#read in the year_wise df\n",
    "year_wise = pd.read_csv('year_wise.csv')\n",
    "year_wise\n"
   ]
  },
  {
   "cell_type": "code",
   "execution_count": null,
   "metadata": {},
   "outputs": [],
   "source": [
    "%%R\n"
   ]
  },
  {
   "attachments": {},
   "cell_type": "markdown",
   "metadata": {},
   "source": [
    "## Doing a join with the country databases\n",
    "We'll have to use fuzzy pandas and asses the damage after we get them in. "
   ]
  },
  {
   "cell_type": "code",
   "execution_count": 8,
   "metadata": {},
   "outputs": [],
   "source": [
    "#Also add the name of the country as a column so that we can read it in later\n",
    "spain_df = pd.read_csv('data/spain_clubs.csv')\n",
    "spain_df['country'] = 'Spain'\n",
    "\n",
    "germany_df = pd.read_csv('data/germany_clubs.csv')\n",
    "germany_df['country'] = 'Germany'\n",
    "\n",
    "italy_df = pd.read_csv('data/italy_clubs.csv')\n",
    "italy_df['country'] = 'Italy'\n",
    "\n",
    "english_df = pd.read_csv('data/english_clubs.csv')\n",
    "english_df['country'] = 'England'\n",
    "\n",
    "france_df = pd.read_csv('data/france_clubs.csv')\n",
    "france_df['country'] = 'France'\n",
    "\n",
    "scotland_df = pd.read_csv('data/scotland_clubs.csv')\n",
    "scotland_df['country'] = 'Scotland'\n",
    "\n",
    "belgium_df = pd.read_csv('data/belgium_clubs.csv')\n",
    "belgium_df['country'] = 'Belgium'\n",
    "\n",
    "turkey_df = pd.read_csv('data/turkey_clubs.csv')\n",
    "turkey_df['country'] = 'Turkey'\n",
    "\n",
    "korea_df = pd.read_csv('data/korea_clubs.csv')\n",
    "korea_df['country'] = 'Korea'\n",
    "\n",
    "japan_df = pd.read_csv('data/japan_clubs.csv')\n",
    "japan_df['country'] = 'Japan'\n",
    "\n",
    "netherlands_df = pd.read_csv('data/netherlands_clubs.csv')\n",
    "netherlands_df['country'] = 'Netherlands'\n",
    "\n",
    "brazil_df = pd.read_csv('data/brazil_clubs.csv')\n",
    "brazil_df['country'] = 'Brazil'\n",
    "\n",
    "portugal_df = pd.read_csv('data/portugal_clubs.csv')\n",
    "portugal_df['country'] = 'Portugal'\n",
    "\n",
    "ukraine_df = pd.read_csv('data/ukraine_clubs.csv')\n",
    "ukraine_df['country'] = 'Ukraine'\n",
    "\n",
    "denmark_df = pd.read_csv('data/denmark_clubs.csv')\n",
    "denmark_df['country'] = 'Denmark'\n",
    "\n",
    "russia_df = pd.read_csv('data/russia_clubs.csv')\n",
    "russia_df['country'] = 'Russia'\n",
    "\n",
    "sweden_df = pd.read_csv('data/sweden_clubs.csv')\n",
    "sweden_df['country'] = 'Sweden'\n",
    "\n",
    "austria_df = pd.read_csv('data/austria_clubs.csv')\n",
    "austria_df['country'] = 'Austria'\n",
    "\n",
    "croatia_df = pd.read_csv('data/croatia_clubs.csv')\n",
    "croatia_df['country'] = 'Croatia'\n"
   ]
  },
  {
   "cell_type": "code",
   "execution_count": 9,
   "metadata": {},
   "outputs": [
    {
     "data": {
      "text/html": [
       "<div>\n",
       "<style scoped>\n",
       "    .dataframe tbody tr th:only-of-type {\n",
       "        vertical-align: middle;\n",
       "    }\n",
       "\n",
       "    .dataframe tbody tr th {\n",
       "        vertical-align: top;\n",
       "    }\n",
       "\n",
       "    .dataframe thead th {\n",
       "        text-align: right;\n",
       "    }\n",
       "</style>\n",
       "<table border=\"1\" class=\"dataframe\">\n",
       "  <thead>\n",
       "    <tr style=\"text-align: right;\">\n",
       "      <th></th>\n",
       "      <th>Squad</th>\n",
       "      <th>Gender</th>\n",
       "      <th>Comp</th>\n",
       "      <th>From</th>\n",
       "      <th>To</th>\n",
       "      <th>Comps</th>\n",
       "      <th>Champs</th>\n",
       "      <th>Other Names</th>\n",
       "      <th>country</th>\n",
       "    </tr>\n",
       "  </thead>\n",
       "  <tbody>\n",
       "    <tr>\n",
       "      <th>3060</th>\n",
       "      <td>PSV Vrouwen</td>\n",
       "      <td>F</td>\n",
       "      <td>Eredivisie Vrouwen</td>\n",
       "      <td>2018-2019</td>\n",
       "      <td>2022-2023</td>\n",
       "      <td>5</td>\n",
       "      <td>0.0</td>\n",
       "      <td>NaN</td>\n",
       "      <td>Netherlands</td>\n",
       "    </tr>\n",
       "    <tr>\n",
       "      <th>2385</th>\n",
       "      <td>FC Échirolles</td>\n",
       "      <td>M</td>\n",
       "      <td>NaN</td>\n",
       "      <td>2014-2015</td>\n",
       "      <td>2015-2016</td>\n",
       "      <td>0</td>\n",
       "      <td>0.0</td>\n",
       "      <td>NaN</td>\n",
       "      <td>France</td>\n",
       "    </tr>\n",
       "    <tr>\n",
       "      <th>162</th>\n",
       "      <td>Bishop's Stortford FC</td>\n",
       "      <td>M</td>\n",
       "      <td>NaN</td>\n",
       "      <td>2017-2018</td>\n",
       "      <td>2022-2023</td>\n",
       "      <td>0</td>\n",
       "      <td>0.0</td>\n",
       "      <td>NaN</td>\n",
       "      <td>England</td>\n",
       "    </tr>\n",
       "    <tr>\n",
       "      <th>2617</th>\n",
       "      <td>SAS Épinal</td>\n",
       "      <td>M</td>\n",
       "      <td>NaN</td>\n",
       "      <td>2014-2015</td>\n",
       "      <td>2022-2023</td>\n",
       "      <td>0</td>\n",
       "      <td>0.0</td>\n",
       "      <td>NaN</td>\n",
       "      <td>France</td>\n",
       "    </tr>\n",
       "    <tr>\n",
       "      <th>569</th>\n",
       "      <td>Liskeard Athletic FC</td>\n",
       "      <td>M</td>\n",
       "      <td>NaN</td>\n",
       "      <td>2022-2023</td>\n",
       "      <td>2022-2023</td>\n",
       "      <td>0</td>\n",
       "      <td>NaN</td>\n",
       "      <td>NaN</td>\n",
       "      <td>England</td>\n",
       "    </tr>\n",
       "  </tbody>\n",
       "</table>\n",
       "</div>"
      ],
      "text/plain": [
       "                      Squad Gender                Comp       From         To  \\\n",
       "3060            PSV Vrouwen      F  Eredivisie Vrouwen  2018-2019  2022-2023   \n",
       "2385          FC Échirolles      M                 NaN  2014-2015  2015-2016   \n",
       "162   Bishop's Stortford FC      M                 NaN  2017-2018  2022-2023   \n",
       "2617             SAS Épinal      M                 NaN  2014-2015  2022-2023   \n",
       "569    Liskeard Athletic FC      M                 NaN  2022-2023  2022-2023   \n",
       "\n",
       "      Comps  Champs Other Names      country  \n",
       "3060      5     0.0         NaN  Netherlands  \n",
       "2385      0     0.0         NaN       France  \n",
       "162       0     0.0         NaN      England  \n",
       "2617      0     0.0         NaN       France  \n",
       "569       0     NaN         NaN      England  "
      ]
     },
     "execution_count": 9,
     "metadata": {},
     "output_type": "execute_result"
    }
   ],
   "source": [
    "#Concatenate all the dataframes\n",
    "country_df = pd.concat([austria_df, english_df, russia_df, sweden_df, spain_df, denmark_df, ukraine_df, germany_df, italy_df, france_df, scotland_df, belgium_df, turkey_df, korea_df, japan_df, netherlands_df, brazil_df, portugal_df], ignore_index=True)\n",
    "country_df.sample(5)\n",
    "\n"
   ]
  },
  {
   "attachments": {},
   "cell_type": "markdown",
   "metadata": {},
   "source": [
    "Let's use fuzzy pandas and do a join "
   ]
  },
  {
   "cell_type": "code",
   "execution_count": 10,
   "metadata": {},
   "outputs": [
    {
     "ename": "KeyboardInterrupt",
     "evalue": "",
     "output_type": "error",
     "traceback": [
      "\u001b[0;31m---------------------------------------------------------------------------\u001b[0m",
      "\u001b[0;31mKeyboardInterrupt\u001b[0m                         Traceback (most recent call last)",
      "Cell \u001b[0;32mIn [10], line 1\u001b[0m\n\u001b[0;32m----> 1\u001b[0m matches \u001b[39m=\u001b[39m fpd\u001b[39m.\u001b[39;49mfuzzy_merge(leagues_df, country_df, left_on\u001b[39m=\u001b[39;49m[\u001b[39m'\u001b[39;49m\u001b[39mclub_involved_name\u001b[39;49m\u001b[39m'\u001b[39;49m], right_on\u001b[39m=\u001b[39;49m[\u001b[39m'\u001b[39;49m\u001b[39mSquad\u001b[39;49m\u001b[39m'\u001b[39;49m])\n\u001b[1;32m      2\u001b[0m \u001b[39mlen\u001b[39m(matches) \n",
      "File \u001b[0;32m~/.pyenv/versions/3.11.0rc2/lib/python3.11/site-packages/fuzzy_pandas/fuzzy_merge.py:123\u001b[0m, in \u001b[0;36mfuzzy_merge\u001b[0;34m(df1, df2, on, left_on, right_on, keep, keep_left, keep_right, method, threshold, **kwargs)\u001b[0m\n\u001b[1;32m    119\u001b[0m     method \u001b[39m=\u001b[39m [method]\n\u001b[1;32m    121\u001b[0m output \u001b[39m=\u001b[39m kwargs\u001b[39m.\u001b[39mpop(\u001b[39m'\u001b[39m\u001b[39moutput\u001b[39m\u001b[39m'\u001b[39m, output)\n\u001b[0;32m--> 123\u001b[0m results, keys \u001b[39m=\u001b[39m csvmatch\u001b[39m.\u001b[39;49mrun(\n\u001b[1;32m    124\u001b[0m     data1,\n\u001b[1;32m    125\u001b[0m     headers1,\n\u001b[1;32m    126\u001b[0m     data2,\n\u001b[1;32m    127\u001b[0m     headers2,\n\u001b[1;32m    128\u001b[0m     fields1\u001b[39m=\u001b[39;49mleft_on,\n\u001b[1;32m    129\u001b[0m     fields2\u001b[39m=\u001b[39;49mright_on,\n\u001b[1;32m    130\u001b[0m     thresholds\u001b[39m=\u001b[39;49mthreshold,\n\u001b[1;32m    131\u001b[0m     output\u001b[39m=\u001b[39;49moutput,\n\u001b[1;32m    132\u001b[0m     methods\u001b[39m=\u001b[39;49mmethod,\n\u001b[1;32m    133\u001b[0m     \u001b[39m*\u001b[39;49m\u001b[39m*\u001b[39;49mkwargs)\n\u001b[1;32m    135\u001b[0m \u001b[39mreturn\u001b[39;00m pd\u001b[39m.\u001b[39mDataFrame(results, columns\u001b[39m=\u001b[39mkeys)\n",
      "File \u001b[0;32m~/.pyenv/versions/3.11.0rc2/lib/python3.11/site-packages/csvmatch.py:54\u001b[0m, in \u001b[0;36mrun\u001b[0;34m(data1, headers1, data2, headers2, fields1, fields2, ignore_case, ignore_nonalpha, ignore_nonlatin, ignore_order_words, ignore_order_letters, ignore_titles, ignore_custom, methods, thresholds, output, join, ticker)\u001b[0m\n\u001b[1;32m     52\u001b[0m matches \u001b[39m=\u001b[39m matcher(processed1, processed2)\n\u001b[1;32m     53\u001b[0m outputs \u001b[39m=\u001b[39m \u001b[39mformat\u001b[39m(output, headers1, headers2, fields1, fields2)\n\u001b[0;32m---> 54\u001b[0m results \u001b[39m=\u001b[39m connect(join, data1, headers1, data2, headers2, \u001b[39mlist\u001b[39;49m(matches), outputs)\n\u001b[1;32m     55\u001b[0m keys \u001b[39m=\u001b[39m [key \u001b[39mfor\u001b[39;00m _, key \u001b[39min\u001b[39;00m outputs]\n\u001b[1;32m     56\u001b[0m \u001b[39mreturn\u001b[39;00m results, keys\n",
      "File \u001b[0;32m~/.pyenv/versions/3.11.0rc2/lib/python3.11/site-packages/csvmatch.py:130\u001b[0m, in \u001b[0;36mbuild.<locals>.executor\u001b[0;34m(data1, data2)\u001b[0m\n\u001b[1;32m    128\u001b[0m degrees \u001b[39m=\u001b[39m []\n\u001b[1;32m    129\u001b[0m \u001b[39mfor\u001b[39;00m i, matcher \u001b[39min\u001b[39;00m \u001b[39menumerate\u001b[39m(matchers):\n\u001b[0;32m--> 130\u001b[0m     degree \u001b[39m=\u001b[39m matcher[\u001b[39m'\u001b[39;49m\u001b[39mmethod\u001b[39;49m\u001b[39m'\u001b[39;49m](row1[i], row2[i])\n\u001b[1;32m    131\u001b[0m     \u001b[39mif\u001b[39;00m degree \u001b[39m<\u001b[39m matcher[\u001b[39m'\u001b[39m\u001b[39mthreshold\u001b[39m\u001b[39m'\u001b[39m]: \u001b[39mbreak\u001b[39;00m\n\u001b[1;32m    132\u001b[0m     \u001b[39melse\u001b[39;00m: degrees\u001b[39m.\u001b[39mappend(degree)\n",
      "File \u001b[0;32m~/.pyenv/versions/3.11.0rc2/lib/python3.11/site-packages/csvmatch.py:109\u001b[0m, in \u001b[0;36mbuild.<locals>.<lambda>\u001b[0;34m(value1, value2)\u001b[0m\n\u001b[1;32m    107\u001b[0m method_function \u001b[39m=\u001b[39m \u001b[39mNone\u001b[39;00m\n\u001b[1;32m    108\u001b[0m \u001b[39mif\u001b[39;00m method \u001b[39m==\u001b[39m \u001b[39m'\u001b[39m\u001b[39mexact\u001b[39m\u001b[39m'\u001b[39m:\n\u001b[0;32m--> 109\u001b[0m     method_function \u001b[39m=\u001b[39m \u001b[39mlambda\u001b[39;00m value1, value2: \u001b[39m1.0\u001b[39m \u001b[39mif\u001b[39;00m value1 \u001b[39m==\u001b[39m value2 \u001b[39melse\u001b[39;00m \u001b[39m0.0\u001b[39m\n\u001b[1;32m    110\u001b[0m \u001b[39melif\u001b[39;00m method \u001b[39m==\u001b[39m \u001b[39m'\u001b[39m\u001b[39mlevenshtein\u001b[39m\u001b[39m'\u001b[39m:\n\u001b[1;32m    111\u001b[0m     \u001b[39mimport\u001b[39;00m \u001b[39mfuzzylevenshtein\u001b[39;00m\n",
      "\u001b[0;31mKeyboardInterrupt\u001b[0m: "
     ]
    }
   ],
   "source": [
    "matches = fpd.fuzzy_merge(leagues_df, country_df, left_on=['club_involved_name'], right_on=['Squad'])\n",
    "len(matches)\n"
   ]
  },
  {
   "cell_type": "code",
   "execution_count": null,
   "metadata": {},
   "outputs": [
    {
     "data": {
      "text/plain": [
       "36483"
      ]
     },
     "execution_count": 102,
     "metadata": {},
     "output_type": "execute_result"
    }
   ],
   "source": []
  },
  {
   "cell_type": "code",
   "execution_count": 24,
   "metadata": {},
   "outputs": [
    {
     "ename": "NameError",
     "evalue": "name 'country_df' is not defined",
     "output_type": "error",
     "traceback": [
      "\u001b[0;31m---------------------------------------------------------------------------\u001b[0m",
      "\u001b[0;31mNameError\u001b[0m                                 Traceback (most recent call last)",
      "Cell \u001b[0;32mIn [24], line 1\u001b[0m\n\u001b[0;32m----> 1\u001b[0m results \u001b[39m=\u001b[39m fpd\u001b[39m.\u001b[39mfuzzy_merge(leagues_df, country_df,\n\u001b[1;32m      2\u001b[0m             left_on\u001b[39m=\u001b[39m[\u001b[39m'\u001b[39m\u001b[39mclub_involved_name\u001b[39m\u001b[39m'\u001b[39m],\n\u001b[1;32m      3\u001b[0m             right_on\u001b[39m=\u001b[39m[\u001b[39m'\u001b[39m\u001b[39mSquad\u001b[39m\u001b[39m'\u001b[39m],\n\u001b[1;32m      4\u001b[0m             keep_left\u001b[39m=\u001b[39m[\u001b[39m'\u001b[39m\u001b[39mclub_name\u001b[39m\u001b[39m'\u001b[39m,\u001b[39m'\u001b[39m\u001b[39mplayer_name\u001b[39m\u001b[39m'\u001b[39m, \u001b[39m'\u001b[39m\u001b[39mclub_involved_name\u001b[39m\u001b[39m'\u001b[39m, \u001b[39m'\u001b[39m\u001b[39myear\u001b[39m\u001b[39m'\u001b[39m, \u001b[39m'\u001b[39m\u001b[39mtransfer_movement\u001b[39m\u001b[39m'\u001b[39m, \u001b[39m'\u001b[39m\u001b[39mtransfer_period\u001b[39m\u001b[39m'\u001b[39m, \u001b[39m'\u001b[39m\u001b[39mfee_cleaned\u001b[39m\u001b[39m'\u001b[39m, \u001b[39m'\u001b[39m\u001b[39mleague_name\u001b[39m\u001b[39m'\u001b[39m],\n\u001b[1;32m      5\u001b[0m             keep_right\u001b[39m=\u001b[39m[\u001b[39m'\u001b[39m\u001b[39mcountry\u001b[39m\u001b[39m'\u001b[39m,\u001b[39m'\u001b[39m\u001b[39mComp\u001b[39m\u001b[39m'\u001b[39m])\n",
      "\u001b[0;31mNameError\u001b[0m: name 'country_df' is not defined"
     ]
    }
   ],
   "source": [
    "results = fpd.fuzzy_merge(leagues_df, country_df,\n",
    "            left_on=['club_involved_name'],\n",
    "            right_on=['Squad'],\n",
    "            keep_left=['club_name','player_name', 'club_involved_name', 'year', 'transfer_movement', 'transfer_period', 'fee_cleaned', 'league_name'],\n",
    "            keep_right=['country','Comp'])\n"
   ]
  },
  {
   "cell_type": "code",
   "execution_count": 23,
   "metadata": {},
   "outputs": [
    {
     "ename": "NameError",
     "evalue": "name 'results' is not defined",
     "output_type": "error",
     "traceback": [
      "\u001b[0;31m---------------------------------------------------------------------------\u001b[0m",
      "\u001b[0;31mNameError\u001b[0m                                 Traceback (most recent call last)",
      "Cell \u001b[0;32mIn [23], line 1\u001b[0m\n\u001b[0;32m----> 1\u001b[0m results\u001b[39m.\u001b[39mhead(\u001b[39m5\u001b[39m)\n",
      "\u001b[0;31mNameError\u001b[0m: name 'results' is not defined"
     ]
    }
   ],
   "source": [
    "results.head(5)"
   ]
  },
  {
   "cell_type": "code",
   "execution_count": null,
   "metadata": {},
   "outputs": [
    {
     "data": {
      "text/html": [
       "<div>\n",
       "<style scoped>\n",
       "    .dataframe tbody tr th:only-of-type {\n",
       "        vertical-align: middle;\n",
       "    }\n",
       "\n",
       "    .dataframe tbody tr th {\n",
       "        vertical-align: top;\n",
       "    }\n",
       "\n",
       "    .dataframe thead th {\n",
       "        text-align: right;\n",
       "    }\n",
       "</style>\n",
       "<table border=\"1\" class=\"dataframe\">\n",
       "  <thead>\n",
       "    <tr style=\"text-align: right;\">\n",
       "      <th></th>\n",
       "      <th>club_name</th>\n",
       "      <th>player_name</th>\n",
       "      <th>age</th>\n",
       "      <th>position</th>\n",
       "      <th>club_involved_name</th>\n",
       "      <th>fee</th>\n",
       "      <th>transfer_movement</th>\n",
       "      <th>transfer_period</th>\n",
       "      <th>fee_cleaned</th>\n",
       "      <th>league_name</th>\n",
       "      <th>...</th>\n",
       "      <th>season</th>\n",
       "      <th>Squad</th>\n",
       "      <th>Gender</th>\n",
       "      <th>Comp</th>\n",
       "      <th>From</th>\n",
       "      <th>To</th>\n",
       "      <th>Comps</th>\n",
       "      <th>Champs</th>\n",
       "      <th>Other Names</th>\n",
       "      <th>country</th>\n",
       "    </tr>\n",
       "  </thead>\n",
       "  <tbody>\n",
       "  </tbody>\n",
       "</table>\n",
       "<p>0 rows × 21 columns</p>\n",
       "</div>"
      ],
      "text/plain": [
       "Empty DataFrame\n",
       "Columns: [club_name, player_name, age, position, club_involved_name, fee, transfer_movement, transfer_period, fee_cleaned, league_name, year, season, Squad, Gender, Comp, From, To, Comps, Champs, Other Names, country]\n",
       "Index: []\n",
       "\n",
       "[0 rows x 21 columns]"
      ]
     },
     "execution_count": 17,
     "metadata": {},
     "output_type": "execute_result"
    }
   ],
   "source": [
    "#From results DF, we want to see how many tranfers are in each country\n",
    "#How much money did la liga spend on transfers.\n",
    "#in results, show me the matches where the country is NaN\n",
    "matches[matches['country'].isnull()]"
   ]
  },
  {
   "cell_type": "code",
   "execution_count": 12,
   "metadata": {},
   "outputs": [
    {
     "data": {
      "text/plain": [
       "country\n",
       "Italy          11439.888\n",
       "Spain           8077.205\n",
       "Germany         7322.478\n",
       "Portugal        4004.914\n",
       "France          2091.082\n",
       "Belgium         1720.448\n",
       "Netherlands     1697.532\n",
       "Brazil           775.239\n",
       "Denmark          375.750\n",
       "Turkey           295.942\n",
       "England          177.071\n",
       "Sweden           129.157\n",
       "Japan             91.088\n",
       "Scotland          65.782\n",
       "Russia            51.425\n",
       "Austria           22.425\n",
       "Korea              8.600\n",
       "Name: fee_cleaned, dtype: float64"
      ]
     },
     "execution_count": 12,
     "metadata": {},
     "output_type": "execute_result"
    }
   ],
   "source": [
    "#group by country and sum the fee_cleaned for every year\n",
    "results.groupby(['country'])['fee_cleaned'].sum().sort_values(ascending=False)\n"
   ]
  },
  {
   "cell_type": "code",
   "execution_count": 13,
   "metadata": {},
   "outputs": [
    {
     "data": {
      "text/plain": [
       "club_name\n",
       "FC Barcelona                   905.600\n",
       "Juventus FC                    792.340\n",
       "Real Madrid                    768.410\n",
       "Paris Saint-Germain            757.820\n",
       "Liverpool FC                   743.625\n",
       "                                ...   \n",
       "FC Dordrecht                     0.000\n",
       "SC Beira-Mar                     0.000\n",
       "Rotor Volgograd                  0.000\n",
       "Rotherham United                 0.000\n",
       "Энергия-Текстильщик Камышин      0.000\n",
       "Name: fee_cleaned, Length: 387, dtype: float64"
      ]
     },
     "execution_count": 13,
     "metadata": {},
     "output_type": "execute_result"
    }
   ],
   "source": [
    "#filter by club_name, where transfer_movement is in and sum by fee_cleaned\n",
    "results[results['transfer_movement'] == 'in'].groupby(['club_name'])['fee_cleaned'].sum().sort_values(ascending=False)"
   ]
  },
  {
   "cell_type": "code",
   "execution_count": 14,
   "metadata": {},
   "outputs": [],
   "source": [
    "prem_transfer = results[results['league_name'] == 'Premier League']"
   ]
  },
  {
   "cell_type": "code",
   "execution_count": 21,
   "metadata": {},
   "outputs": [
    {
     "data": {
      "text/plain": [
       "club_name\n",
       "Liverpool FC               743.625\n",
       "Chelsea FC                 717.990\n",
       "Manchester City            654.350\n",
       "Manchester United          465.580\n",
       "Tottenham Hotspur          420.890\n",
       "Wolverhampton Wanderers    352.375\n",
       "Newcastle United           314.050\n",
       "Arsenal FC                 274.830\n",
       "Leicester City             272.660\n",
       "Watford FC                 139.850\n",
       "Aston Villa                131.980\n",
       "Fulham FC                  130.860\n",
       "Southampton FC             117.580\n",
       "Everton FC                 113.460\n",
       "Brighton & Hove Albion      94.760\n",
       "Leeds United                90.200\n",
       "Swansea City                68.370\n",
       "West Bromwich Albion        63.880\n",
       "Burnley FC                  56.900\n",
       "Stoke City                  55.045\n",
       "Sunderland AFC              53.975\n",
       "Norwich City                52.900\n",
       "West Ham United             40.866\n",
       "Cardiff City                39.050\n",
       "Blackburn Rovers            39.025\n",
       "Nottingham Forest           27.300\n",
       "Sheffield United            23.000\n",
       "Brentford FC                21.000\n",
       "Wigan Athletic              18.735\n",
       "Bolton Wanderers            18.670\n",
       "Middlesbrough FC            17.600\n",
       "AFC Bournemouth             17.400\n",
       "Ipswich Town                16.850\n",
       "Crystal Palace              13.500\n",
       "Charlton Athletic           12.150\n",
       "Hull City                   11.950\n",
       "Sheffield Wednesday         11.400\n",
       "Portsmouth FC               10.830\n",
       "Derby County                 9.150\n",
       "Huddersfield Town            9.000\n",
       "Coventry City                6.105\n",
       "Queens Park Rangers          5.800\n",
       "Reading FC                   5.000\n",
       "Birmingham City              2.300\n",
       "Bradford City                0.000\n",
       "Oldham Athletic              0.000\n",
       "Swindon Town                 0.000\n",
       "Blackpool FC                 0.000\n",
       "Barnsley FC                  0.000\n",
       "Name: fee_cleaned, dtype: float64"
      ]
     },
     "execution_count": 21,
     "metadata": {},
     "output_type": "execute_result"
    }
   ],
   "source": [
    "#sort prem_transfer by fee_cleaned and transfers in \n",
    "prem_transfer[prem_transfer['transfer_movement'] == 'in'].groupby(['club_name'])['fee_cleaned'].sum().sort_values(ascending=False)"
   ]
  },
  {
   "cell_type": "code",
   "execution_count": 19,
   "metadata": {},
   "outputs": [],
   "source": [
    "#make a new df for the clubs in la_liga d\n",
    "la_liga_transfer = results[results['league_name'] == 'Primera Division']"
   ]
  },
  {
   "cell_type": "code",
   "execution_count": 20,
   "metadata": {},
   "outputs": [
    {
     "data": {
      "text/plain": [
       "club_name\n",
       "FC Barcelona               905.600\n",
       "Real Madrid                768.410\n",
       "Atlético de Madrid         546.235\n",
       "Valencia CF                308.720\n",
       "Sevilla FC                 290.385\n",
       "Villarreal CF              270.500\n",
       "Deportivo de La Coruña     209.440\n",
       "Real Betis Balompié        181.468\n",
       "Athletic Bilbao            120.450\n",
       "Celta de Vigo              108.683\n",
       "Real Sociedad               95.530\n",
       "RCD Espanyol Barcelona      94.775\n",
       "Getafe CF                   53.000\n",
       "Granada CF                  43.640\n",
       "Real Zaragoza               37.740\n",
       "Málaga CF                   35.350\n",
       "Levante UD                  33.000\n",
       "RCD Mallorca                29.330\n",
       "Real Valladolid CF          24.580\n",
       "UD Almería                  24.100\n",
       "CA Osasuna                  23.470\n",
       "Racing Santander            21.892\n",
       "CD Tenerife                 19.270\n",
       "CD Leganés                  19.200\n",
       "SD Eibar                    16.600\n",
       "Deportivo Alavés            14.050\n",
       "Rayo Vallecano              14.050\n",
       "UD Las Palmas               12.900\n",
       "Recreativo Huelva            8.650\n",
       "Real Murcia CF               8.530\n",
       "Cádiz CF                     6.400\n",
       "Elche CF                     5.595\n",
       "Girona FC                    5.500\n",
       "SD Huesca                    5.300\n",
       "Sporting Gijón               3.700\n",
       "Real Oviedo                  3.300\n",
       "UD Salamanca                 2.610\n",
       "SD Compostela                2.080\n",
       "CP Mérida                    1.921\n",
       "Hércules CF                  1.500\n",
       "Gimnàstic de Tarragona       1.200\n",
       "CF Extremadura (- 2010)      0.450\n",
       "Albacete Balompié            0.300\n",
       "CD Numancia                  0.300\n",
       "Córdoba CF                   0.000\n",
       "UE Lleida                    0.000\n",
       "CD Logroñés                  0.000\n",
       "Xerez CD                     0.000\n",
       "Name: fee_cleaned, dtype: float64"
      ]
     },
     "execution_count": 20,
     "metadata": {},
     "output_type": "execute_result"
    }
   ],
   "source": [
    "#sort la_liga_transfer by fee_cleaned and transfers\n",
    "la_liga_transfer[la_liga_transfer['transfer_movement'] == 'in'].groupby(['club_name'])['fee_cleaned'].sum().sort_values(ascending=False)\n"
   ]
  },
  {
   "cell_type": "code",
   "execution_count": 18,
   "metadata": {},
   "outputs": [
    {
     "data": {
      "text/html": [
       "<div>\n",
       "<style scoped>\n",
       "    .dataframe tbody tr th:only-of-type {\n",
       "        vertical-align: middle;\n",
       "    }\n",
       "\n",
       "    .dataframe tbody tr th {\n",
       "        vertical-align: top;\n",
       "    }\n",
       "\n",
       "    .dataframe thead th {\n",
       "        text-align: right;\n",
       "    }\n",
       "</style>\n",
       "<table border=\"1\" class=\"dataframe\">\n",
       "  <thead>\n",
       "    <tr style=\"text-align: right;\">\n",
       "      <th></th>\n",
       "      <th>club_name</th>\n",
       "      <th>player_name</th>\n",
       "      <th>age</th>\n",
       "      <th>position</th>\n",
       "      <th>club_involved_name</th>\n",
       "      <th>fee</th>\n",
       "      <th>transfer_movement</th>\n",
       "      <th>transfer_period</th>\n",
       "      <th>fee_cleaned</th>\n",
       "      <th>league_name</th>\n",
       "      <th>year</th>\n",
       "      <th>season</th>\n",
       "    </tr>\n",
       "  </thead>\n",
       "  <tbody>\n",
       "    <tr>\n",
       "      <th>0</th>\n",
       "      <td>Real Sociedad</td>\n",
       "      <td>Alberto López</td>\n",
       "      <td>23.0</td>\n",
       "      <td>Goalkeeper</td>\n",
       "      <td>Real Sociedad B</td>\n",
       "      <td>-</td>\n",
       "      <td>in</td>\n",
       "      <td>Summer</td>\n",
       "      <td>NaN</td>\n",
       "      <td>Primera Division</td>\n",
       "      <td>1992</td>\n",
       "      <td>1992/1993</td>\n",
       "    </tr>\n",
       "    <tr>\n",
       "      <th>1</th>\n",
       "      <td>Real Sociedad</td>\n",
       "      <td>Iñigo Idiakez</td>\n",
       "      <td>18.0</td>\n",
       "      <td>Attacking Midfield</td>\n",
       "      <td>R. Sociedad U19</td>\n",
       "      <td>-</td>\n",
       "      <td>in</td>\n",
       "      <td>Summer</td>\n",
       "      <td>NaN</td>\n",
       "      <td>Primera Division</td>\n",
       "      <td>1992</td>\n",
       "      <td>1992/1993</td>\n",
       "    </tr>\n",
       "    <tr>\n",
       "      <th>2</th>\n",
       "      <td>Real Sociedad</td>\n",
       "      <td>José González</td>\n",
       "      <td>27.0</td>\n",
       "      <td>Goalkeeper</td>\n",
       "      <td>Valencia</td>\n",
       "      <td>?</td>\n",
       "      <td>out</td>\n",
       "      <td>Summer</td>\n",
       "      <td>NaN</td>\n",
       "      <td>Primera Division</td>\n",
       "      <td>1992</td>\n",
       "      <td>1992/1993</td>\n",
       "    </tr>\n",
       "    <tr>\n",
       "      <th>3</th>\n",
       "      <td>Cádiz CF</td>\n",
       "      <td>Igor Stimac</td>\n",
       "      <td>24.0</td>\n",
       "      <td>Centre-Back</td>\n",
       "      <td>Hajduk Split</td>\n",
       "      <td>?</td>\n",
       "      <td>in</td>\n",
       "      <td>Summer</td>\n",
       "      <td>NaN</td>\n",
       "      <td>Primera Division</td>\n",
       "      <td>1992</td>\n",
       "      <td>1992/1993</td>\n",
       "    </tr>\n",
       "    <tr>\n",
       "      <th>4</th>\n",
       "      <td>Cádiz CF</td>\n",
       "      <td>Quino</td>\n",
       "      <td>21.0</td>\n",
       "      <td>attack</td>\n",
       "      <td>CD Málaga</td>\n",
       "      <td>?</td>\n",
       "      <td>in</td>\n",
       "      <td>Summer</td>\n",
       "      <td>NaN</td>\n",
       "      <td>Primera Division</td>\n",
       "      <td>1992</td>\n",
       "      <td>1992/1993</td>\n",
       "    </tr>\n",
       "  </tbody>\n",
       "</table>\n",
       "</div>"
      ],
      "text/plain": [
       "       club_name    player_name   age            position club_involved_name  \\\n",
       "0  Real Sociedad  Alberto López  23.0          Goalkeeper    Real Sociedad B   \n",
       "1  Real Sociedad  Iñigo Idiakez  18.0  Attacking Midfield    R. Sociedad U19   \n",
       "2  Real Sociedad  José González  27.0          Goalkeeper           Valencia   \n",
       "3       Cádiz CF    Igor Stimac  24.0         Centre-Back       Hajduk Split   \n",
       "4       Cádiz CF          Quino  21.0              attack          CD Málaga   \n",
       "\n",
       "  fee transfer_movement transfer_period  fee_cleaned       league_name  year  \\\n",
       "0   -                in          Summer          NaN  Primera Division  1992   \n",
       "1   -                in          Summer          NaN  Primera Division  1992   \n",
       "2   ?               out          Summer          NaN  Primera Division  1992   \n",
       "3   ?                in          Summer          NaN  Primera Division  1992   \n",
       "4   ?                in          Summer          NaN  Primera Division  1992   \n",
       "\n",
       "      season  \n",
       "0  1992/1993  \n",
       "1  1992/1993  \n",
       "2  1992/1993  \n",
       "3  1992/1993  \n",
       "4  1992/1993  "
      ]
     },
     "execution_count": 18,
     "metadata": {},
     "output_type": "execute_result"
    }
   ],
   "source": [
    "laliga_df.head(5)"
   ]
  },
  {
   "cell_type": "code",
   "execution_count": null,
   "metadata": {},
   "outputs": [],
   "source": []
  }
 ],
 "metadata": {
  "kernelspec": {
   "display_name": "Python 3",
   "language": "python",
   "name": "python3"
  },
  "language_info": {
   "codemirror_mode": {
    "name": "ipython",
    "version": 3
   },
   "file_extension": ".py",
   "mimetype": "text/x-python",
   "name": "python",
   "nbconvert_exporter": "python",
   "pygments_lexer": "ipython3",
   "version": "3.11.0rc2"
  },
  "vscode": {
   "interpreter": {
    "hash": "b98d1416ba4af78ccc77dbb427d441ba2f2a9a9dd9e4ab7ae97c9f50ea8e7608"
   }
  }
 },
 "nbformat": 4,
 "nbformat_minor": 2
}
